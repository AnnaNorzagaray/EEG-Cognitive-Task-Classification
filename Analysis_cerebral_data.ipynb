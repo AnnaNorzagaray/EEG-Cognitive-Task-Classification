{
  "cells": [
    {
      "cell_type": "markdown",
      "id": "1e66ee5d",
      "metadata": {
        "id": "1e66ee5d"
      },
      "source": [
        "# Análisis de datos de actividad física"
      ]
    },
    {
      "cell_type": "markdown",
      "id": "ab355a74",
      "metadata": {
        "id": "ab355a74"
      },
      "source": [
        "### Librerías"
      ]
    },
    {
      "cell_type": "code",
      "execution_count": null,
      "id": "6b649905",
      "metadata": {
        "id": "6b649905"
      },
      "outputs": [],
      "source": [
        "import numpy as np\n",
        "import pandas as pd\n",
        "import matplotlib.pyplot as plt\n",
        "# ----------------------------------------------------------------------\n",
        "from sklearn import svm, neighbors\n",
        "from sklearn.svm import SVC, SVR\n",
        "from sklearn.model_selection import StratifiedKFold\n",
        "from sklearn.metrics import classification_report, accuracy_score, recall_score, precision_score, confusion_matrix\n",
        "from sklearn.feature_selection import SelectKBest, mutual_info_classif, SequentialFeatureSelector, RFE\n",
        "from sklearn.model_selection import train_test_split\n",
        "from sklearn.neural_network import MLPClassifier\n",
        "from sklearn.neighbors import KNeighborsClassifier\n",
        "from sklearn import svm\n",
        "from sklearn.linear_model import LogisticRegression\n",
        "from sklearn.ensemble import RandomForestClassifier\n",
        "from sklearn.model_selection import GridSearchCV\n",
        "from sklearn.pipeline import Pipeline, make_pipeline\n",
        "from sklearn.preprocessing import StandardScaler\n",
        "from imblearn.under_sampling import RandomUnderSampler\n",
        "# ----------------------------------------------------------------------\n",
        "import warnings\n",
        "warnings.filterwarnings(\"ignore\")"
      ]
    },
    {
      "cell_type": "markdown",
      "id": "09969812",
      "metadata": {
        "id": "09969812"
      },
      "source": [
        "### Lectura de archivos"
      ]
    },
    {
      "cell_type": "code",
      "execution_count": null,
      "id": "241d2213",
      "metadata": {
        "id": "241d2213"
      },
      "outputs": [],
      "source": [
        "p300_K = pd.read_csv('prueba_1_kun.txt', delimiter = '\\s+', header = None)\n",
        "p300_D = pd.read_csv('prueba_1_diego.txt', delimiter = '\\s+', header = None)\n",
        "p300_A = pd.read_csv('prueba_1_anna.txt', delimiter = '\\s+', header = None)\n",
        "# ----------------------------------------------------------------------\n",
        "cogn_K = pd.read_csv('prueba_2_kun.txt', delimiter = '\\s+', header = None)\n",
        "cogn_D = pd.read_csv('prueba_2_diego.txt', delimiter = '\\s+', header = None)\n",
        "cogn_A = pd.read_csv('prueba_2_anna.txt', delimiter = '\\s+', header = None)\n",
        "# ----------------------------------------------------------------------\n",
        "p300_K = p300_K.dropna(axis=1)\n",
        "p300_D = p300_D.dropna(axis=1)\n",
        "p300_A = p300_A.dropna(axis=1)\n",
        "# ----------------------------------------------------------------------\n",
        "cogn_K = cogn_K.dropna(axis=1)\n",
        "cogn_D = cogn_D.dropna(axis=1)\n",
        "cogn_A = cogn_A.dropna(axis=1)"
      ]
    },
    {
      "cell_type": "code",
      "execution_count": null,
      "id": "7b026729",
      "metadata": {
        "id": "7b026729",
        "outputId": "5a760a57-0520-449a-eec2-4f746bf9e880"
      },
      "outputs": [
        {
          "data": {
            "text/plain": [
              "array([[ 1.        ,  1.        , 13.58921468, ...,  2.70268374,\n",
              "         4.10002656,  4.61562349],\n",
              "       [ 1.        ,  1.        , 14.48481062, ...,  2.62078523,\n",
              "         2.21964575,  4.59147298],\n",
              "       [ 1.        ,  1.        , 30.32407016, ...,  2.35728066,\n",
              "         2.70299926,  4.45747389],\n",
              "       ...,\n",
              "       [13.        ,  1.        , 54.93601451, ...,  2.69458245,\n",
              "         2.37638191,  5.04033967],\n",
              "       [13.        ,  1.        , 26.67749078, ...,  1.98004218,\n",
              "         2.35889425,  3.14819618],\n",
              "       [13.        ,  1.        , 32.87805588, ...,  1.72114719,\n",
              "         2.54518601,  6.26253826]])"
            ]
          },
          "execution_count": 17,
          "metadata": {},
          "output_type": "execute_result"
        }
      ],
      "source": [
        "np.loadtxt('prueba_2_anna.txt')"
      ]
    },
    {
      "cell_type": "markdown",
      "id": "JxcQ98MWM9qQ",
      "metadata": {
        "id": "JxcQ98MWM9qQ"
      },
      "source": [
        "# Incisos 1 y 2:\n",
        "\n",
        "1. Evalúe el rendimiento de los modelos de clasificación SVM, K-NN, y MLP (de al menos 2 capas). Calcule tanto la exactitud, la precisión por clase y el recall por clase para cada uno de los modelos.\n",
        "\n",
        "2. Seleccione dos modelos de clasificación no vistos en clase, y evalúelos con sus conjuntos de datos. Calcule tanto la exactitud, la precisión por clase y el recall por clase para cada uno de los modelos."
      ]
    },
    {
      "cell_type": "code",
      "execution_count": null,
      "id": "-ZHUosONAjD5",
      "metadata": {
        "id": "-ZHUosONAjD5"
      },
      "outputs": [],
      "source": [
        "kf = StratifiedKFold(n_splits = 25, shuffle = True)"
      ]
    },
    {
      "cell_type": "markdown",
      "id": "ebf27ecf",
      "metadata": {
        "id": "ebf27ecf"
      },
      "source": [
        "## P300 vs no P300\n",
        "\n"
      ]
    },
    {
      "cell_type": "code",
      "execution_count": null,
      "id": "8e27fb4b",
      "metadata": {
        "id": "8e27fb4b"
      },
      "outputs": [],
      "source": [
        "# X Y de P300\n",
        "x_K_p300 = p300_K.iloc[: , 1:]\n",
        "y_K_p300 = p300_K.iloc[: , 0]\n",
        "# ------------------------\n",
        "x_D_p300 = p300_D.iloc[: , 1:]\n",
        "y_D_p300 = p300_D.iloc[: , 0]\n",
        "# ------------------------\n",
        "x_A_p300 = p300_A.iloc[: , 1:]\n",
        "y_A_p300 = p300_A.iloc[: , 0]"
      ]
    },
    {
      "cell_type": "markdown",
      "id": "CHkSWis8OfzP",
      "metadata": {
        "id": "CHkSWis8OfzP"
      },
      "source": [
        "### SVM - Kun"
      ]
    },
    {
      "cell_type": "code",
      "execution_count": null,
      "id": "oa_J4MmQPJ1V",
      "metadata": {
        "colab": {
          "base_uri": "https://localhost:8080/"
        },
        "id": "oa_J4MmQPJ1V",
        "outputId": "a092c7cc-6d4c-46a9-dd4c-05094d736d17"
      },
      "outputs": [
        {
          "name": "stdout",
          "output_type": "stream",
          "text": [
            "ACC =  0.7912077922077921\n",
            "RECALL =  [0.58818182 0.84218182]\n"
          ]
        }
      ],
      "source": [
        "acc = 0\n",
        "recall = np.array([0., 0.])\n",
        "\n",
        "for train_index, test_index in kf.split(x_K_p300, y_K_p300):\n",
        "  # Training phase\n",
        "  X_train = x_K_p300.iloc[train_index, :]\n",
        "  y_train = y_K_p300.iloc[train_index]\n",
        "\n",
        "  clf = make_pipeline(svm.SVC(class_weight='balanced'))\n",
        "  clf.fit(X_train, y_train)\n",
        "\n",
        "  # Test phase\n",
        "  X_test = x_K_p300.iloc[test_index, :]\n",
        "  y_test = y_K_p300.iloc[test_index]\n",
        "  y_pred = clf.predict(X_test)\n",
        "\n",
        "  # Results\n",
        "  cm = confusion_matrix(y_test, y_pred)\n",
        "\n",
        "  acc += (cm[0,0]+cm[1,1])/len(y_test)\n",
        "\n",
        "  recall[0] += cm[0,0]/(cm[0,0] + cm[0,1])\n",
        "  recall[1] += cm[1,1]/(cm[1,0] + cm[1,1])\n",
        "\n",
        "acc = acc/25\n",
        "print('ACC = ', acc)\n",
        "recall = recall/25\n",
        "print('RECALL = ', recall)"
      ]
    },
    {
      "cell_type": "markdown",
      "id": "KLxGu7MOPzIY",
      "metadata": {
        "id": "KLxGu7MOPzIY"
      },
      "source": [
        "### SVM - Diego"
      ]
    },
    {
      "cell_type": "code",
      "execution_count": null,
      "id": "4Skzld7gPyYt",
      "metadata": {
        "colab": {
          "base_uri": "https://localhost:8080/"
        },
        "id": "4Skzld7gPyYt",
        "outputId": "c3a6c9cf-612e-4078-ef75-3b755e474cb2"
      },
      "outputs": [
        {
          "name": "stdout",
          "output_type": "stream",
          "text": [
            "ACC =  0.8356493506493505\n",
            "RECALL =  [0.66333333 0.87890909]\n"
          ]
        }
      ],
      "source": [
        "acc = 0\n",
        "recall = np.array([0., 0.])\n",
        "\n",
        "for train_index, test_index in kf.split(x_D_p300, y_D_p300):\n",
        "  # Training phase\n",
        "  X_train = x_D_p300.iloc[train_index, :]\n",
        "  y_train = y_D_p300.iloc[train_index]\n",
        "\n",
        "  clf = make_pipeline(StandardScaler(), svm.SVC(class_weight='balanced'))\n",
        "  clf.fit(X_train, y_train)\n",
        "\n",
        "  # Test phase\n",
        "  X_test = x_D_p300.iloc[test_index, :]\n",
        "  y_test = y_D_p300.iloc[test_index]\n",
        "  y_pred = clf.predict(X_test)\n",
        "\n",
        "  # Results\n",
        "  cm = confusion_matrix(y_test, y_pred)\n",
        "\n",
        "  acc += (cm[0,0]+cm[1,1])/len(y_test)\n",
        "\n",
        "  recall[0] += cm[0,0]/(cm[0,0] + cm[0,1])\n",
        "  recall[1] += cm[1,1]/(cm[1,0] + cm[1,1])\n",
        "\n",
        "acc = acc/25\n",
        "print('ACC = ', acc)\n",
        "recall = recall/25\n",
        "print('RECALL = ', recall)"
      ]
    },
    {
      "cell_type": "markdown",
      "id": "6-TdKcwlQYb1",
      "metadata": {
        "id": "6-TdKcwlQYb1"
      },
      "source": [
        "### SVM - Anna"
      ]
    },
    {
      "cell_type": "code",
      "execution_count": null,
      "id": "AgfXyMLcQZCV",
      "metadata": {
        "colab": {
          "base_uri": "https://localhost:8080/"
        },
        "id": "AgfXyMLcQZCV",
        "outputId": "0312e048-a6e2-48dc-8c29-10c2826e8bea"
      },
      "outputs": [
        {
          "name": "stdout",
          "output_type": "stream",
          "text": [
            "ACC =  0.8779480519480516\n",
            "RECALL =  [0.64454545 0.93618182]\n"
          ]
        }
      ],
      "source": [
        "acc = 0\n",
        "recall = np.array([0., 0.])\n",
        "\n",
        "for train_index, test_index in kf.split(x_A_p300, y_A_p300):\n",
        "  # Training phase\n",
        "  X_train = x_A_p300.iloc[train_index, :]\n",
        "  y_train = y_A_p300.iloc[train_index]\n",
        "\n",
        "  clf = make_pipeline(StandardScaler(), svm.SVC(class_weight='balanced'))\n",
        "  clf.fit(X_train, y_train)\n",
        "\n",
        "  # Test phase\n",
        "  X_test = x_A_p300.iloc[test_index, :]\n",
        "  y_test = y_A_p300.iloc[test_index]\n",
        "  y_pred = clf.predict(X_test)\n",
        "\n",
        "  # Results\n",
        "  cm = confusion_matrix(y_test, y_pred)\n",
        "\n",
        "  acc += (cm[0,0]+cm[1,1])/len(y_test)\n",
        "\n",
        "  recall[0] += cm[0,0]/(cm[0,0] + cm[0,1])\n",
        "  recall[1] += cm[1,1]/(cm[1,0] + cm[1,1])\n",
        "\n",
        "acc = acc/25\n",
        "print('ACC = ', acc)\n",
        "recall = recall/25\n",
        "print('RECALL = ', recall)"
      ]
    },
    {
      "cell_type": "markdown",
      "id": "y65Z_1KaTdnu",
      "metadata": {
        "id": "y65Z_1KaTdnu"
      },
      "source": [
        "### KNN - Kun"
      ]
    },
    {
      "cell_type": "code",
      "execution_count": null,
      "id": "lrMdUoIiTc_Q",
      "metadata": {
        "colab": {
          "base_uri": "https://localhost:8080/"
        },
        "id": "lrMdUoIiTc_Q",
        "outputId": "eff205ca-fd47-492c-fb2c-ba437fc542bd"
      },
      "outputs": [
        {
          "name": "stdout",
          "output_type": "stream",
          "text": [
            "ACC =  0.6197012987012986\n",
            "RECALL =  [0.65545455 0.61070707]\n"
          ]
        }
      ],
      "source": [
        "acc = 0\n",
        "recall = np.array([0., 0.])\n",
        "\n",
        "for train_index, test_index in kf.split(x_K_p300, y_K_p300):\n",
        "  # Training phase\n",
        "  X_train = x_K_p300.iloc[train_index, :]\n",
        "  y_train = y_K_p300.iloc[train_index]\n",
        "\n",
        "  rus = RandomUnderSampler(random_state=42)\n",
        "  X_train_rus, y_train_rus= rus.fit_resample(X_train, y_train)\n",
        "\n",
        "  clf = make_pipeline(StandardScaler(), KNeighborsClassifier(n_neighbors = int(7)))\n",
        "  clf.fit(X_train_rus, y_train_rus)\n",
        "\n",
        "  # Test phase\n",
        "  X_test = x_K_p300.iloc[test_index, :]\n",
        "  y_test = y_K_p300.iloc[test_index]\n",
        "  y_pred = clf.predict(X_test)\n",
        "\n",
        "  # Results\n",
        "  cm = confusion_matrix(y_test, y_pred)\n",
        "\n",
        "  acc += (cm[0,0]+cm[1,1])/len(y_test)\n",
        "\n",
        "  recall[0] += cm[0,0]/(cm[0,0] + cm[0,1])\n",
        "  recall[1] += cm[1,1]/(cm[1,0] + cm[1,1])\n",
        "\n",
        "acc = acc/25\n",
        "print('ACC = ', acc)\n",
        "recall = recall/25\n",
        "print('RECALL = ', recall)"
      ]
    },
    {
      "cell_type": "markdown",
      "id": "VtH6lq3eQrOI",
      "metadata": {
        "id": "VtH6lq3eQrOI"
      },
      "source": [
        "### KNN - Diego"
      ]
    },
    {
      "cell_type": "code",
      "execution_count": null,
      "id": "4U3ZVFBGQ1Nf",
      "metadata": {
        "colab": {
          "base_uri": "https://localhost:8080/"
        },
        "id": "4U3ZVFBGQ1Nf",
        "outputId": "74b1ac7a-9839-4b16-ca5e-46830864f149"
      },
      "outputs": [
        {
          "name": "stdout",
          "output_type": "stream",
          "text": [
            "ACC =  0.6165714285714285\n",
            "RECALL =  [0.71818182 0.59157576]\n"
          ]
        }
      ],
      "source": [
        "acc = 0\n",
        "recall = np.array([0., 0.])\n",
        "\n",
        "for train_index, test_index in kf.split(x_D_p300, y_D_p300):\n",
        "  # Training phase\n",
        "  X_train = x_D_p300.iloc[train_index, :]\n",
        "  y_train = y_D_p300.iloc[train_index]\n",
        "\n",
        "  rus = RandomUnderSampler(random_state=42)\n",
        "  X_train_rus, y_train_rus= rus.fit_resample(X_train, y_train)\n",
        "\n",
        "  clf = make_pipeline(StandardScaler(), KNeighborsClassifier(n_neighbors = int(7)))\n",
        "  clf.fit(X_train_rus, y_train_rus)\n",
        "\n",
        "  # Test phase\n",
        "  X_test = x_D_p300.iloc[test_index, :]\n",
        "  y_test = y_D_p300.iloc[test_index]\n",
        "  y_pred = clf.predict(X_test)\n",
        "\n",
        "  # Results\n",
        "  cm = confusion_matrix(y_test, y_pred)\n",
        "\n",
        "  acc += (cm[0,0]+cm[1,1])/len(y_test)\n",
        "\n",
        "  recall[0] += cm[0,0]/(cm[0,0] + cm[0,1])\n",
        "  recall[1] += cm[1,1]/(cm[1,0] + cm[1,1])\n",
        "\n",
        "acc = acc/25\n",
        "print('ACC = ', acc)\n",
        "recall = recall/25\n",
        "print('RECALL = ', recall)"
      ]
    },
    {
      "cell_type": "markdown",
      "id": "aM-KMDjxQuun",
      "metadata": {
        "id": "aM-KMDjxQuun"
      },
      "source": [
        "### KNN - Anna"
      ]
    },
    {
      "cell_type": "code",
      "execution_count": null,
      "id": "ChZOvSBuROtk",
      "metadata": {
        "colab": {
          "base_uri": "https://localhost:8080/"
        },
        "id": "ChZOvSBuROtk",
        "outputId": "cb39867d-2550-46bd-efb8-0cf283bd0b52"
      },
      "outputs": [
        {
          "name": "stdout",
          "output_type": "stream",
          "text": [
            "ACC =  0.7135324675324677\n",
            "RECALL =  [0.77030303 0.69911111]\n"
          ]
        }
      ],
      "source": [
        "acc = 0\n",
        "recall = np.array([0., 0.])\n",
        "\n",
        "for train_index, test_index in kf.split(x_A_p300, y_A_p300):\n",
        "  # Training phase\n",
        "  X_train = x_A_p300.iloc[train_index, :]\n",
        "  y_train = y_A_p300.iloc[train_index]\n",
        "\n",
        "  rus = RandomUnderSampler(random_state=42)\n",
        "  X_train_rus, y_train_rus= rus.fit_resample(X_train, y_train)\n",
        "\n",
        "  clf = make_pipeline(StandardScaler(), KNeighborsClassifier(n_neighbors = int(7)))\n",
        "  clf.fit(X_train_rus, y_train_rus)\n",
        "\n",
        "  # Test phase\n",
        "  X_test = x_A_p300.iloc[test_index, :]\n",
        "  y_test = y_A_p300.iloc[test_index]\n",
        "  y_pred = clf.predict(X_test)\n",
        "\n",
        "  # Results\n",
        "  cm = confusion_matrix(y_test, y_pred)\n",
        "\n",
        "  acc += (cm[0,0]+cm[1,1])/len(y_test)\n",
        "\n",
        "  recall[0] += cm[0,0]/(cm[0,0] + cm[0,1])\n",
        "  recall[1] += cm[1,1]/(cm[1,0] + cm[1,1])\n",
        "\n",
        "acc = acc/25\n",
        "print('ACC = ', acc)\n",
        "recall = recall/25\n",
        "print('RECALL = ', recall)"
      ]
    },
    {
      "cell_type": "markdown",
      "id": "MeOBb1w3UAXs",
      "metadata": {
        "id": "MeOBb1w3UAXs"
      },
      "source": [
        "### MLP - Kun"
      ]
    },
    {
      "cell_type": "code",
      "execution_count": null,
      "id": "V7v1Ds6VT_Nj",
      "metadata": {
        "colab": {
          "base_uri": "https://localhost:8080/"
        },
        "id": "V7v1Ds6VT_Nj",
        "outputId": "059584fc-15f5-46f2-a32c-431562737c0e"
      },
      "outputs": [
        {
          "name": "stdout",
          "output_type": "stream",
          "text": [
            "ACC =  0.7566493506493508\n",
            "RECALL =  [0.40393939 0.84474747]\n"
          ]
        }
      ],
      "source": [
        "acc = 0\n",
        "recall = np.array([0., 0.])\n",
        "\n",
        "for train_index, test_index in kf.split(x_K_p300, y_K_p300):\n",
        "  # Training phase\n",
        "  X_train = x_K_p300.iloc[train_index, :]\n",
        "  y_train = y_K_p300.iloc[train_index]\n",
        "\n",
        "  clf = make_pipeline(StandardScaler(), MLPClassifier(hidden_layer_sizes=[200, 200], max_iter=1000))\n",
        "\n",
        "  clf.fit(X_train, y_train)\n",
        "\n",
        "  # Test phase\n",
        "  X_test = x_K_p300.iloc[test_index, :]\n",
        "  y_test = y_K_p300.iloc[test_index]\n",
        "  y_pred = clf.predict(X_test)\n",
        "\n",
        "  # Results\n",
        "  cm = confusion_matrix(y_test, y_pred)\n",
        "\n",
        "  acc += (cm[0,0]+cm[1,1])/len(y_test)\n",
        "\n",
        "  recall[0] += cm[0,0]/(cm[0,0] + cm[0,1])\n",
        "  recall[1] += cm[1,1]/(cm[1,0] + cm[1,1])\n",
        "\n",
        "acc = acc/25\n",
        "print('ACC = ', acc)\n",
        "recall = recall/25\n",
        "print('RECALL = ', recall)"
      ]
    },
    {
      "cell_type": "markdown",
      "id": "owZPh-yLRbRs",
      "metadata": {
        "id": "owZPh-yLRbRs"
      },
      "source": [
        "### MLP - Diego"
      ]
    },
    {
      "cell_type": "code",
      "execution_count": null,
      "id": "LodDpn-YRakG",
      "metadata": {
        "colab": {
          "base_uri": "https://localhost:8080/"
        },
        "id": "LodDpn-YRakG",
        "outputId": "5f639b80-b108-438e-b040-c28ceb3b4b1b"
      },
      "outputs": [
        {
          "name": "stdout",
          "output_type": "stream",
          "text": [
            "ACC =  0.7946493506493507\n",
            "RECALL =  [0.47       0.87620202]\n"
          ]
        }
      ],
      "source": [
        "acc = 0\n",
        "recall = np.array([0., 0.])\n",
        "\n",
        "for train_index, test_index in kf.split(x_D_p300, y_D_p300):\n",
        "  # Training phase\n",
        "  X_train = x_D_p300.iloc[train_index, :]\n",
        "  y_train = y_D_p300.iloc[train_index]\n",
        "\n",
        "  clf = make_pipeline(StandardScaler(), MLPClassifier(hidden_layer_sizes=5, max_iter=1000))\n",
        "\n",
        "  clf.fit(X_train, y_train)\n",
        "\n",
        "  # Test phase\n",
        "  X_test = x_D_p300.iloc[test_index, :]\n",
        "  y_test = y_D_p300.iloc[test_index]\n",
        "  y_pred = clf.predict(X_test)\n",
        "\n",
        "  # Results\n",
        "  cm = confusion_matrix(y_test, y_pred)\n",
        "\n",
        "  acc += (cm[0,0]+cm[1,1])/len(y_test)\n",
        "\n",
        "  recall[0] += cm[0,0]/(cm[0,0] + cm[0,1])\n",
        "  recall[1] += cm[1,1]/(cm[1,0] + cm[1,1])\n",
        "\n",
        "acc = acc/25\n",
        "print('ACC = ', acc)\n",
        "recall = recall/25\n",
        "print('RECALL = ', recall)"
      ]
    },
    {
      "cell_type": "markdown",
      "id": "5PPzlnOUR0Fe",
      "metadata": {
        "id": "5PPzlnOUR0Fe"
      },
      "source": [
        "### MLP - Anna"
      ]
    },
    {
      "cell_type": "code",
      "execution_count": null,
      "id": "_j6gkEehRz1r",
      "metadata": {
        "colab": {
          "base_uri": "https://localhost:8080/"
        },
        "id": "_j6gkEehRz1r",
        "outputId": "ae7735ea-7bab-4dd2-9c74-f7ca98be365b"
      },
      "outputs": [
        {
          "name": "stdout",
          "output_type": "stream",
          "text": [
            "ACC =  0.8162727272727271\n",
            "RECALL =  [0.56181818 0.87975758]\n"
          ]
        }
      ],
      "source": [
        "acc = 0\n",
        "recall = np.array([0., 0.])\n",
        "\n",
        "for train_index, test_index in kf.split(x_A_p300, y_A_p300):\n",
        "  # Training phase\n",
        "  X_train = x_A_p300.iloc[train_index, :]\n",
        "  y_train = y_A_p300.iloc[train_index]\n",
        "\n",
        "  clf = make_pipeline(StandardScaler(), MLPClassifier(hidden_layer_sizes=5, max_iter=1000))\n",
        "\n",
        "  clf.fit(X_train, y_train)\n",
        "\n",
        "  # Test phase\n",
        "  X_test = x_A_p300.iloc[test_index, :]\n",
        "  y_test = y_A_p300.iloc[test_index]\n",
        "  y_pred = clf.predict(X_test)\n",
        "\n",
        "  # Results\n",
        "  cm = confusion_matrix(y_test, y_pred)\n",
        "\n",
        "  acc += (cm[0,0]+cm[1,1])/len(y_test)\n",
        "\n",
        "  recall[0] += cm[0,0]/(cm[0,0] + cm[0,1])\n",
        "  recall[1] += cm[1,1]/(cm[1,0] + cm[1,1])\n",
        "\n",
        "acc = acc/25\n",
        "print('ACC = ', acc)\n",
        "recall = recall/25\n",
        "print('RECALL = ', recall)"
      ]
    },
    {
      "cell_type": "markdown",
      "id": "UmVK5jpoZkvk",
      "metadata": {
        "id": "UmVK5jpoZkvk"
      },
      "source": [
        "### Logistic Regression - Kun"
      ]
    },
    {
      "cell_type": "code",
      "execution_count": null,
      "id": "co2ErObLZkiF",
      "metadata": {
        "colab": {
          "base_uri": "https://localhost:8080/"
        },
        "id": "co2ErObLZkiF",
        "outputId": "bdb156ab-83d7-438a-cd63-cb1c60477d8a"
      },
      "outputs": [
        {
          "name": "stdout",
          "output_type": "stream",
          "text": [
            "ACC =  0.7428961038961037\n",
            "RECALL =  [0.70181818 0.7529899 ]\n"
          ]
        }
      ],
      "source": [
        "acc = 0\n",
        "recall = np.array([0., 0.])\n",
        "\n",
        "for train_index, test_index in kf.split(x_K_p300, y_K_p300):\n",
        "  # Training phase\n",
        "  X_train = x_K_p300.iloc[train_index, :]\n",
        "  y_train = y_K_p300.iloc[train_index]\n",
        "\n",
        "  clf = make_pipeline(StandardScaler(), LogisticRegression(class_weight='balanced'))\n",
        "\n",
        "  clf.fit(X_train, y_train)\n",
        "\n",
        "  # Test phase\n",
        "  X_test = x_K_p300.iloc[test_index, :]\n",
        "  y_test = y_K_p300.iloc[test_index]\n",
        "  y_pred = clf.predict(X_test)\n",
        "\n",
        "  # Results\n",
        "  cm = confusion_matrix(y_test, y_pred)\n",
        "\n",
        "  acc += (cm[0,0]+cm[1,1])/len(y_test)\n",
        "\n",
        "  recall[0] += cm[0,0]/(cm[0,0] + cm[0,1])\n",
        "  recall[1] += cm[1,1]/(cm[1,0] + cm[1,1])\n",
        "\n",
        "acc = acc/25\n",
        "print('ACC = ', acc)\n",
        "recall = recall/25\n",
        "print('RECALL = ', recall)"
      ]
    },
    {
      "cell_type": "markdown",
      "id": "dtVW7O4ISPI2",
      "metadata": {
        "id": "dtVW7O4ISPI2"
      },
      "source": [
        "### Logistic Regression - Diego"
      ]
    },
    {
      "cell_type": "code",
      "execution_count": null,
      "id": "95UmuyHZSP3S",
      "metadata": {
        "colab": {
          "base_uri": "https://localhost:8080/"
        },
        "id": "95UmuyHZSP3S",
        "outputId": "c0fb4bb2-85ed-4f07-f93d-6aa45c4e8d8b"
      },
      "outputs": [
        {
          "name": "stdout",
          "output_type": "stream",
          "text": [
            "ACC =  0.7868961038961038\n",
            "RECALL =  [0.75424242 0.79553535]\n"
          ]
        }
      ],
      "source": [
        "acc = 0\n",
        "recall = np.array([0., 0.])\n",
        "\n",
        "for train_index, test_index in kf.split(x_D_p300, y_D_p300):\n",
        "  # Training phase\n",
        "  X_train = x_D_p300.iloc[train_index, :]\n",
        "  y_train = y_D_p300.iloc[train_index]\n",
        "\n",
        "  clf = make_pipeline(StandardScaler(), LogisticRegression(class_weight='balanced'))\n",
        "\n",
        "  clf.fit(X_train, y_train)\n",
        "\n",
        "  # Test phase\n",
        "  X_test = x_D_p300.iloc[test_index, :]\n",
        "  y_test = y_D_p300.iloc[test_index]\n",
        "  y_pred = clf.predict(X_test)\n",
        "\n",
        "  # Results\n",
        "  cm = confusion_matrix(y_test, y_pred)\n",
        "\n",
        "  acc += (cm[0,0]+cm[1,1])/len(y_test)\n",
        "\n",
        "  recall[0] += cm[0,0]/(cm[0,0] + cm[0,1])\n",
        "  recall[1] += cm[1,1]/(cm[1,0] + cm[1,1])\n",
        "\n",
        "acc = acc/25\n",
        "print('ACC = ', acc)\n",
        "recall = recall/25\n",
        "print('RECALL = ', recall)"
      ]
    },
    {
      "cell_type": "markdown",
      "id": "1iRYWfEISTbR",
      "metadata": {
        "id": "1iRYWfEISTbR"
      },
      "source": [
        "### Logistic Regression - Anna"
      ]
    },
    {
      "cell_type": "code",
      "execution_count": null,
      "id": "VOJJU5cPST-C",
      "metadata": {
        "colab": {
          "base_uri": "https://localhost:8080/"
        },
        "id": "VOJJU5cPST-C",
        "outputId": "c7200357-5547-4c6f-8c3f-52540a00db88"
      },
      "outputs": [
        {
          "name": "stdout",
          "output_type": "stream",
          "text": [
            "ACC =  0.7832207792207794\n",
            "RECALL =  [0.74939394 0.79193939]\n"
          ]
        }
      ],
      "source": [
        "acc = 0\n",
        "recall = np.array([0., 0.])\n",
        "\n",
        "for train_index, test_index in kf.split(x_A_p300, y_A_p300):\n",
        "  # Training phase\n",
        "  X_train = x_A_p300.iloc[train_index, :]\n",
        "  y_train = y_A_p300.iloc[train_index]\n",
        "\n",
        "  clf = make_pipeline(StandardScaler(), LogisticRegression(class_weight='balanced'))\n",
        "\n",
        "  clf.fit(X_train, y_train)\n",
        "\n",
        "  # Test phase\n",
        "  X_test = x_A_p300.iloc[test_index, :]\n",
        "  y_test = y_A_p300.iloc[test_index]\n",
        "  y_pred = clf.predict(X_test)\n",
        "\n",
        "  # Results\n",
        "  cm = confusion_matrix(y_test, y_pred)\n",
        "\n",
        "  acc += (cm[0,0]+cm[1,1])/len(y_test)\n",
        "\n",
        "  recall[0] += cm[0,0]/(cm[0,0] + cm[0,1])\n",
        "  recall[1] += cm[1,1]/(cm[1,0] + cm[1,1])\n",
        "\n",
        "acc = acc/25\n",
        "print('ACC = ', acc)\n",
        "recall = recall/25\n",
        "print('RECALL = ', recall)"
      ]
    },
    {
      "cell_type": "markdown",
      "id": "2YzrZ0pvaPiN",
      "metadata": {
        "id": "2YzrZ0pvaPiN"
      },
      "source": [
        "### Random Forest - Kun"
      ]
    },
    {
      "cell_type": "code",
      "execution_count": null,
      "id": "_JK2B9KkaPFy",
      "metadata": {
        "colab": {
          "base_uri": "https://localhost:8080/"
        },
        "id": "_JK2B9KkaPFy",
        "outputId": "0d9faf36-e526-4af8-fce4-efd9a0a34507"
      },
      "outputs": [
        {
          "name": "stdout",
          "output_type": "stream",
          "text": [
            "ACC =  0.8090519480519481\n",
            "RECALL =  [0.06424242 0.99551515]\n"
          ]
        }
      ],
      "source": [
        "acc = 0\n",
        "recall = np.array([0., 0.])\n",
        "\n",
        "for train_index, test_index in kf.split(x_K_p300, y_K_p300):\n",
        "  # Training phase\n",
        "  X_train = x_K_p300.iloc[train_index, :]\n",
        "  y_train = y_K_p300.iloc[train_index]\n",
        "\n",
        "  clf = make_pipeline(StandardScaler(), RandomForestClassifier(class_weight='balanced'))\n",
        "\n",
        "  clf.fit(X_train, y_train)\n",
        "\n",
        "  # Test phase\n",
        "  X_test = x_K_p300.iloc[test_index, :]\n",
        "  y_test = y_K_p300.iloc[test_index]\n",
        "  y_pred = clf.predict(X_test)\n",
        "\n",
        "  # Results\n",
        "  cm = confusion_matrix(y_test, y_pred)\n",
        "\n",
        "  acc += (cm[0,0]+cm[1,1])/len(y_test)\n",
        "\n",
        "  recall[0] += cm[0,0]/(cm[0,0] + cm[0,1])\n",
        "  recall[1] += cm[1,1]/(cm[1,0] + cm[1,1])\n",
        "\n",
        "acc = acc/25\n",
        "print('ACC = ', acc)\n",
        "recall = recall/25\n",
        "print('RECALL = ', recall)"
      ]
    },
    {
      "cell_type": "markdown",
      "id": "pabpUE1NTDGy",
      "metadata": {
        "id": "pabpUE1NTDGy"
      },
      "source": [
        "### Random Forest - Diego"
      ]
    },
    {
      "cell_type": "code",
      "execution_count": null,
      "id": "CcpUYP6nTC46",
      "metadata": {
        "colab": {
          "base_uri": "https://localhost:8080/"
        },
        "id": "CcpUYP6nTC46",
        "outputId": "9ff2b994-53c7-4ade-f8b9-d09acfc809c8"
      },
      "outputs": [
        {
          "name": "stdout",
          "output_type": "stream",
          "text": [
            "ACC =  0.8204805194805194\n",
            "RECALL =  [0.12909091 0.99367677]\n"
          ]
        }
      ],
      "source": [
        "acc = 0\n",
        "recall = np.array([0., 0.])\n",
        "\n",
        "for train_index, test_index in kf.split(x_D_p300, y_D_p300):\n",
        "  # Training phase\n",
        "  X_train = x_D_p300.iloc[train_index, :]\n",
        "  y_train = y_D_p300.iloc[train_index]\n",
        "\n",
        "  clf = make_pipeline(StandardScaler(), RandomForestClassifier(class_weight='balanced'))\n",
        "\n",
        "  clf.fit(X_train, y_train)\n",
        "\n",
        "  # Test phase\n",
        "  X_test = x_D_p300.iloc[test_index, :]\n",
        "  y_test = y_D_p300.iloc[test_index]\n",
        "  y_pred = clf.predict(X_test)\n",
        "\n",
        "  # Results\n",
        "  cm = confusion_matrix(y_test, y_pred)\n",
        "\n",
        "  acc += (cm[0,0]+cm[1,1])/len(y_test)\n",
        "\n",
        "  recall[0] += cm[0,0]/(cm[0,0] + cm[0,1])\n",
        "  recall[1] += cm[1,1]/(cm[1,0] + cm[1,1])\n",
        "\n",
        "acc = acc/25\n",
        "print('ACC = ', acc)\n",
        "recall = recall/25\n",
        "print('RECALL = ', recall)"
      ]
    },
    {
      "cell_type": "markdown",
      "id": "gIVfcaVATCr3",
      "metadata": {
        "id": "gIVfcaVATCr3"
      },
      "source": [
        "### Random Forest - Anna"
      ]
    },
    {
      "cell_type": "code",
      "execution_count": null,
      "id": "oqJJ-iohTCeR",
      "metadata": {
        "colab": {
          "base_uri": "https://localhost:8080/"
        },
        "id": "oqJJ-iohTCeR",
        "outputId": "ad0f5dc5-0b92-4e81-feda-0aa624f1de4d"
      },
      "outputs": [
        {
          "name": "stdout",
          "output_type": "stream",
          "text": [
            "ACC =  0.8385064935064933\n",
            "RECALL =  [0.20484848 0.99733333]\n"
          ]
        }
      ],
      "source": [
        "acc = 0\n",
        "recall = np.array([0., 0.])\n",
        "\n",
        "for train_index, test_index in kf.split(x_A_p300, y_A_p300):\n",
        "  # Training phase\n",
        "  X_train = x_A_p300.iloc[train_index, :]\n",
        "  y_train = y_A_p300.iloc[train_index]\n",
        "\n",
        "  clf = make_pipeline(StandardScaler(), RandomForestClassifier(class_weight='balanced'))\n",
        "\n",
        "  clf.fit(X_train, y_train)\n",
        "\n",
        "  # Test phase\n",
        "  X_test = x_A_p300.iloc[test_index, :]\n",
        "  y_test = y_A_p300.iloc[test_index]\n",
        "  y_pred = clf.predict(X_test)\n",
        "\n",
        "  # Results\n",
        "  cm = confusion_matrix(y_test, y_pred)\n",
        "\n",
        "  acc += (cm[0,0]+cm[1,1])/len(y_test)\n",
        "\n",
        "  recall[0] += cm[0,0]/(cm[0,0] + cm[0,1])\n",
        "  recall[1] += cm[1,1]/(cm[1,0] + cm[1,1])\n",
        "\n",
        "acc = acc/25\n",
        "print('ACC = ', acc)\n",
        "recall = recall/25\n",
        "print('RECALL = ', recall)"
      ]
    },
    {
      "cell_type": "markdown",
      "id": "8Xz55SHrV-jK",
      "metadata": {
        "id": "8Xz55SHrV-jK"
      },
      "source": [
        "## Clasificación de tarea de cálculo (9-12) vs tarea de lectura (5-8) vs tarea de nombres de cosas (1-4)\n"
      ]
    },
    {
      "cell_type": "code",
      "execution_count": null,
      "id": "XidO0QVpV-Ne",
      "metadata": {
        "id": "XidO0QVpV-Ne"
      },
      "outputs": [],
      "source": [
        "# X Y de Cognitivas 1\n",
        "transformacion = lambda x: 1 if 1 <= x <= 4 else 2 if 5 <= x <= 8 else 3 if 9 <= x <= 12 else 4\n",
        "cogn_K[0] = cogn_K[0].map(transformacion)\n",
        "cogn_D[0] = cogn_K[0].map(transformacion)\n",
        "cogn_A[0] = cogn_K[0].map(transformacion)\n",
        "\n",
        "cogn_K = cogn_K[cogn_K.iloc[:, 0] != 4]\n",
        "cogn_D = cogn_D[cogn_D.iloc[:, 0] != 4]\n",
        "cogn_A = cogn_A[cogn_A.iloc[:, 0] != 4]\n",
        "\n",
        "x_K_cogn1 = cogn_K.iloc[: , 1:]\n",
        "y_K_cogn1 = cogn_K.iloc[: , 0]\n",
        "# ------------------------\n",
        "x_D_cogn1 = cogn_D.iloc[: , 1:]\n",
        "y_D_cogn1 = cogn_D.iloc[: , 0]\n",
        "# ------------------------\n",
        "x_A_cogn1 = cogn_A.iloc[: , 1:]\n",
        "y_A_cogn1 = cogn_A.iloc[: , 0]"
      ]
    },
    {
      "cell_type": "code",
      "execution_count": null,
      "id": "c4c665c4",
      "metadata": {
        "id": "c4c665c4",
        "outputId": "391271f5-179b-491a-bb8e-b29412a4f400"
      },
      "outputs": [
        {
          "data": {
            "text/html": [
              "<div>\n",
              "<style scoped>\n",
              "    .dataframe tbody tr th:only-of-type {\n",
              "        vertical-align: middle;\n",
              "    }\n",
              "\n",
              "    .dataframe tbody tr th {\n",
              "        vertical-align: top;\n",
              "    }\n",
              "\n",
              "    .dataframe thead th {\n",
              "        text-align: right;\n",
              "    }\n",
              "</style>\n",
              "<table border=\"1\" class=\"dataframe\">\n",
              "  <thead>\n",
              "    <tr style=\"text-align: right;\">\n",
              "      <th></th>\n",
              "      <th>1</th>\n",
              "      <th>2</th>\n",
              "      <th>3</th>\n",
              "      <th>4</th>\n",
              "      <th>5</th>\n",
              "      <th>6</th>\n",
              "      <th>7</th>\n",
              "      <th>8</th>\n",
              "      <th>9</th>\n",
              "      <th>10</th>\n",
              "      <th>...</th>\n",
              "      <th>208</th>\n",
              "      <th>209</th>\n",
              "      <th>210</th>\n",
              "      <th>211</th>\n",
              "      <th>212</th>\n",
              "      <th>213</th>\n",
              "      <th>214</th>\n",
              "      <th>215</th>\n",
              "      <th>216</th>\n",
              "      <th>217</th>\n",
              "    </tr>\n",
              "  </thead>\n",
              "  <tbody>\n",
              "    <tr>\n",
              "      <th>0</th>\n",
              "      <td>1</td>\n",
              "      <td>13.589215</td>\n",
              "      <td>4.930113</td>\n",
              "      <td>5.037298</td>\n",
              "      <td>5.399706</td>\n",
              "      <td>3.855637</td>\n",
              "      <td>7.199374</td>\n",
              "      <td>4.147996</td>\n",
              "      <td>4.041664</td>\n",
              "      <td>15.867199</td>\n",
              "      <td>...</td>\n",
              "      <td>4.272583</td>\n",
              "      <td>4.590192</td>\n",
              "      <td>1.818205</td>\n",
              "      <td>3.574539</td>\n",
              "      <td>3.537578</td>\n",
              "      <td>2.765890</td>\n",
              "      <td>3.230438</td>\n",
              "      <td>2.702684</td>\n",
              "      <td>4.100027</td>\n",
              "      <td>4.615623</td>\n",
              "    </tr>\n",
              "    <tr>\n",
              "      <th>1</th>\n",
              "      <td>1</td>\n",
              "      <td>14.484811</td>\n",
              "      <td>13.468368</td>\n",
              "      <td>11.608648</td>\n",
              "      <td>11.080092</td>\n",
              "      <td>15.607551</td>\n",
              "      <td>14.468629</td>\n",
              "      <td>11.027060</td>\n",
              "      <td>13.116093</td>\n",
              "      <td>16.086787</td>\n",
              "      <td>...</td>\n",
              "      <td>2.224896</td>\n",
              "      <td>4.433079</td>\n",
              "      <td>1.432296</td>\n",
              "      <td>1.937020</td>\n",
              "      <td>1.702001</td>\n",
              "      <td>1.663586</td>\n",
              "      <td>3.979139</td>\n",
              "      <td>2.620785</td>\n",
              "      <td>2.219646</td>\n",
              "      <td>4.591473</td>\n",
              "    </tr>\n",
              "    <tr>\n",
              "      <th>2</th>\n",
              "      <td>1</td>\n",
              "      <td>30.324070</td>\n",
              "      <td>6.244942</td>\n",
              "      <td>7.720269</td>\n",
              "      <td>6.448223</td>\n",
              "      <td>16.601164</td>\n",
              "      <td>8.747081</td>\n",
              "      <td>12.246845</td>\n",
              "      <td>12.574046</td>\n",
              "      <td>29.371041</td>\n",
              "      <td>...</td>\n",
              "      <td>3.038462</td>\n",
              "      <td>4.678217</td>\n",
              "      <td>2.129459</td>\n",
              "      <td>2.004390</td>\n",
              "      <td>1.811863</td>\n",
              "      <td>2.332928</td>\n",
              "      <td>3.567157</td>\n",
              "      <td>2.357281</td>\n",
              "      <td>2.702999</td>\n",
              "      <td>4.457474</td>\n",
              "    </tr>\n",
              "    <tr>\n",
              "      <th>3</th>\n",
              "      <td>1</td>\n",
              "      <td>63.120006</td>\n",
              "      <td>9.379032</td>\n",
              "      <td>10.439838</td>\n",
              "      <td>8.418659</td>\n",
              "      <td>9.579456</td>\n",
              "      <td>10.132894</td>\n",
              "      <td>8.576532</td>\n",
              "      <td>18.389324</td>\n",
              "      <td>65.061691</td>\n",
              "      <td>...</td>\n",
              "      <td>2.672958</td>\n",
              "      <td>4.325579</td>\n",
              "      <td>0.910288</td>\n",
              "      <td>2.396694</td>\n",
              "      <td>1.990245</td>\n",
              "      <td>2.539628</td>\n",
              "      <td>3.801424</td>\n",
              "      <td>2.294501</td>\n",
              "      <td>3.042093</td>\n",
              "      <td>4.419387</td>\n",
              "    </tr>\n",
              "    <tr>\n",
              "      <th>4</th>\n",
              "      <td>1</td>\n",
              "      <td>52.741647</td>\n",
              "      <td>22.706534</td>\n",
              "      <td>28.686197</td>\n",
              "      <td>22.525542</td>\n",
              "      <td>8.707877</td>\n",
              "      <td>12.946745</td>\n",
              "      <td>12.638979</td>\n",
              "      <td>5.205497</td>\n",
              "      <td>49.869484</td>\n",
              "      <td>...</td>\n",
              "      <td>3.539110</td>\n",
              "      <td>7.451203</td>\n",
              "      <td>1.506966</td>\n",
              "      <td>1.716617</td>\n",
              "      <td>1.798808</td>\n",
              "      <td>2.882234</td>\n",
              "      <td>3.728661</td>\n",
              "      <td>2.288489</td>\n",
              "      <td>3.277372</td>\n",
              "      <td>6.887009</td>\n",
              "    </tr>\n",
              "    <tr>\n",
              "      <th>...</th>\n",
              "      <td>...</td>\n",
              "      <td>...</td>\n",
              "      <td>...</td>\n",
              "      <td>...</td>\n",
              "      <td>...</td>\n",
              "      <td>...</td>\n",
              "      <td>...</td>\n",
              "      <td>...</td>\n",
              "      <td>...</td>\n",
              "      <td>...</td>\n",
              "      <td>...</td>\n",
              "      <td>...</td>\n",
              "      <td>...</td>\n",
              "      <td>...</td>\n",
              "      <td>...</td>\n",
              "      <td>...</td>\n",
              "      <td>...</td>\n",
              "      <td>...</td>\n",
              "      <td>...</td>\n",
              "      <td>...</td>\n",
              "      <td>...</td>\n",
              "    </tr>\n",
              "    <tr>\n",
              "      <th>269</th>\n",
              "      <td>1</td>\n",
              "      <td>62.861230</td>\n",
              "      <td>18.956727</td>\n",
              "      <td>25.755759</td>\n",
              "      <td>18.226450</td>\n",
              "      <td>11.761670</td>\n",
              "      <td>13.735699</td>\n",
              "      <td>11.720559</td>\n",
              "      <td>9.265123</td>\n",
              "      <td>65.055102</td>\n",
              "      <td>...</td>\n",
              "      <td>1.600426</td>\n",
              "      <td>4.646996</td>\n",
              "      <td>3.243211</td>\n",
              "      <td>5.234852</td>\n",
              "      <td>3.060580</td>\n",
              "      <td>1.816058</td>\n",
              "      <td>4.809035</td>\n",
              "      <td>2.181769</td>\n",
              "      <td>1.732151</td>\n",
              "      <td>5.478087</td>\n",
              "    </tr>\n",
              "    <tr>\n",
              "      <th>270</th>\n",
              "      <td>1</td>\n",
              "      <td>26.781047</td>\n",
              "      <td>10.457307</td>\n",
              "      <td>16.133185</td>\n",
              "      <td>15.623345</td>\n",
              "      <td>10.524350</td>\n",
              "      <td>14.519872</td>\n",
              "      <td>8.772173</td>\n",
              "      <td>14.181254</td>\n",
              "      <td>28.346753</td>\n",
              "      <td>...</td>\n",
              "      <td>3.190445</td>\n",
              "      <td>6.488122</td>\n",
              "      <td>0.927818</td>\n",
              "      <td>2.391781</td>\n",
              "      <td>1.132775</td>\n",
              "      <td>1.379219</td>\n",
              "      <td>3.905555</td>\n",
              "      <td>2.053330</td>\n",
              "      <td>2.713932</td>\n",
              "      <td>6.480963</td>\n",
              "    </tr>\n",
              "    <tr>\n",
              "      <th>271</th>\n",
              "      <td>1</td>\n",
              "      <td>54.936015</td>\n",
              "      <td>11.867940</td>\n",
              "      <td>13.159651</td>\n",
              "      <td>15.226288</td>\n",
              "      <td>8.505499</td>\n",
              "      <td>11.437454</td>\n",
              "      <td>13.648042</td>\n",
              "      <td>7.156582</td>\n",
              "      <td>57.102353</td>\n",
              "      <td>...</td>\n",
              "      <td>2.327505</td>\n",
              "      <td>4.045973</td>\n",
              "      <td>1.666624</td>\n",
              "      <td>1.740621</td>\n",
              "      <td>2.363356</td>\n",
              "      <td>2.427023</td>\n",
              "      <td>4.696204</td>\n",
              "      <td>2.694582</td>\n",
              "      <td>2.376382</td>\n",
              "      <td>5.040340</td>\n",
              "    </tr>\n",
              "    <tr>\n",
              "      <th>272</th>\n",
              "      <td>1</td>\n",
              "      <td>26.677491</td>\n",
              "      <td>18.767400</td>\n",
              "      <td>14.174545</td>\n",
              "      <td>9.333927</td>\n",
              "      <td>12.748328</td>\n",
              "      <td>18.095664</td>\n",
              "      <td>5.242327</td>\n",
              "      <td>8.390074</td>\n",
              "      <td>28.251695</td>\n",
              "      <td>...</td>\n",
              "      <td>2.889564</td>\n",
              "      <td>3.244077</td>\n",
              "      <td>0.973662</td>\n",
              "      <td>1.740264</td>\n",
              "      <td>1.785302</td>\n",
              "      <td>1.858781</td>\n",
              "      <td>3.168883</td>\n",
              "      <td>1.980042</td>\n",
              "      <td>2.358894</td>\n",
              "      <td>3.148196</td>\n",
              "    </tr>\n",
              "    <tr>\n",
              "      <th>273</th>\n",
              "      <td>1</td>\n",
              "      <td>32.878056</td>\n",
              "      <td>12.382142</td>\n",
              "      <td>15.379474</td>\n",
              "      <td>17.878812</td>\n",
              "      <td>10.050478</td>\n",
              "      <td>11.672506</td>\n",
              "      <td>8.598839</td>\n",
              "      <td>7.483728</td>\n",
              "      <td>27.259207</td>\n",
              "      <td>...</td>\n",
              "      <td>2.634882</td>\n",
              "      <td>6.509696</td>\n",
              "      <td>1.311973</td>\n",
              "      <td>2.147824</td>\n",
              "      <td>1.250051</td>\n",
              "      <td>1.352253</td>\n",
              "      <td>3.759153</td>\n",
              "      <td>1.721147</td>\n",
              "      <td>2.545186</td>\n",
              "      <td>6.262538</td>\n",
              "    </tr>\n",
              "  </tbody>\n",
              "</table>\n",
              "<p>274 rows × 217 columns</p>\n",
              "</div>"
            ],
            "text/plain": [
              "     1          2          3          4          5          6          7    \\\n",
              "0      1  13.589215   4.930113   5.037298   5.399706   3.855637   7.199374   \n",
              "1      1  14.484811  13.468368  11.608648  11.080092  15.607551  14.468629   \n",
              "2      1  30.324070   6.244942   7.720269   6.448223  16.601164   8.747081   \n",
              "3      1  63.120006   9.379032  10.439838   8.418659   9.579456  10.132894   \n",
              "4      1  52.741647  22.706534  28.686197  22.525542   8.707877  12.946745   \n",
              "..   ...        ...        ...        ...        ...        ...        ...   \n",
              "269    1  62.861230  18.956727  25.755759  18.226450  11.761670  13.735699   \n",
              "270    1  26.781047  10.457307  16.133185  15.623345  10.524350  14.519872   \n",
              "271    1  54.936015  11.867940  13.159651  15.226288   8.505499  11.437454   \n",
              "272    1  26.677491  18.767400  14.174545   9.333927  12.748328  18.095664   \n",
              "273    1  32.878056  12.382142  15.379474  17.878812  10.050478  11.672506   \n",
              "\n",
              "           8          9          10   ...       208       209       210  \\\n",
              "0     4.147996   4.041664  15.867199  ...  4.272583  4.590192  1.818205   \n",
              "1    11.027060  13.116093  16.086787  ...  2.224896  4.433079  1.432296   \n",
              "2    12.246845  12.574046  29.371041  ...  3.038462  4.678217  2.129459   \n",
              "3     8.576532  18.389324  65.061691  ...  2.672958  4.325579  0.910288   \n",
              "4    12.638979   5.205497  49.869484  ...  3.539110  7.451203  1.506966   \n",
              "..         ...        ...        ...  ...       ...       ...       ...   \n",
              "269  11.720559   9.265123  65.055102  ...  1.600426  4.646996  3.243211   \n",
              "270   8.772173  14.181254  28.346753  ...  3.190445  6.488122  0.927818   \n",
              "271  13.648042   7.156582  57.102353  ...  2.327505  4.045973  1.666624   \n",
              "272   5.242327   8.390074  28.251695  ...  2.889564  3.244077  0.973662   \n",
              "273   8.598839   7.483728  27.259207  ...  2.634882  6.509696  1.311973   \n",
              "\n",
              "          211       212       213       214       215       216       217  \n",
              "0    3.574539  3.537578  2.765890  3.230438  2.702684  4.100027  4.615623  \n",
              "1    1.937020  1.702001  1.663586  3.979139  2.620785  2.219646  4.591473  \n",
              "2    2.004390  1.811863  2.332928  3.567157  2.357281  2.702999  4.457474  \n",
              "3    2.396694  1.990245  2.539628  3.801424  2.294501  3.042093  4.419387  \n",
              "4    1.716617  1.798808  2.882234  3.728661  2.288489  3.277372  6.887009  \n",
              "..        ...       ...       ...       ...       ...       ...       ...  \n",
              "269  5.234852  3.060580  1.816058  4.809035  2.181769  1.732151  5.478087  \n",
              "270  2.391781  1.132775  1.379219  3.905555  2.053330  2.713932  6.480963  \n",
              "271  1.740621  2.363356  2.427023  4.696204  2.694582  2.376382  5.040340  \n",
              "272  1.740264  1.785302  1.858781  3.168883  1.980042  2.358894  3.148196  \n",
              "273  2.147824  1.250051  1.352253  3.759153  1.721147  2.545186  6.262538  \n",
              "\n",
              "[274 rows x 217 columns]"
            ]
          },
          "execution_count": 5,
          "metadata": {},
          "output_type": "execute_result"
        }
      ],
      "source": [
        "x_A_cogn1"
      ]
    },
    {
      "cell_type": "markdown",
      "id": "h5WCg2_LYPTr",
      "metadata": {
        "id": "h5WCg2_LYPTr"
      },
      "source": [
        "### SVM - Kun"
      ]
    },
    {
      "cell_type": "code",
      "execution_count": null,
      "id": "XQsIsmjbYO7Q",
      "metadata": {
        "colab": {
          "base_uri": "https://localhost:8080/"
        },
        "id": "XQsIsmjbYO7Q",
        "outputId": "cd02ea07-6c85-4183-9657-39baec92a1e7"
      },
      "outputs": [
        {
          "name": "stdout",
          "output_type": "stream",
          "text": [
            "ACC =  0.41238095238095235\n",
            "RECALL =  [0.34666667 0.54666667 0.33333333]\n"
          ]
        }
      ],
      "source": [
        "acc = 0\n",
        "recall = np.array([0., 0., 0.])\n",
        "\n",
        "for train_index, test_index in kf.split(x_K_cogn1, y_K_cogn1):\n",
        "  # Training phase\n",
        "  X_train = x_K_cogn1.iloc[train_index, :]\n",
        "  y_train = y_K_cogn1.iloc[train_index]\n",
        "\n",
        "  clf = make_pipeline(StandardScaler(), svm.SVC())\n",
        "  clf.fit(X_train, y_train)\n",
        "\n",
        "  # Test phase\n",
        "  X_test = x_K_cogn1.iloc[test_index, :]\n",
        "  y_test = y_K_cogn1.iloc[test_index]\n",
        "  y_pred = clf.predict(X_test)\n",
        "\n",
        "  # Results\n",
        "  cm = confusion_matrix(y_test, y_pred)\n",
        "\n",
        "  acc += (cm[0,0]+cm[1,1]+cm[2,2])/len(y_test)\n",
        "\n",
        "  recall[0] += cm[0,0]/(cm[0,0] + cm[0,1] + cm[0,2])\n",
        "  recall[1] += cm[1,1]/(cm[1,0] + cm[1,1] + cm[1,2])\n",
        "  recall[2] += cm[2,2]/(cm[2,0] + cm[2,1] + cm[2,2])\n",
        "\n",
        "acc = acc/25\n",
        "print('ACC = ', acc)\n",
        "recall = recall/25\n",
        "print('RECALL = ', recall)"
      ]
    },
    {
      "cell_type": "markdown",
      "id": "d_QhPjYBZNbi",
      "metadata": {
        "id": "d_QhPjYBZNbi"
      },
      "source": [
        "### KNN - Kun"
      ]
    },
    {
      "cell_type": "code",
      "execution_count": null,
      "id": "s_JYsYpCZNBU",
      "metadata": {
        "colab": {
          "base_uri": "https://localhost:8080/"
        },
        "id": "s_JYsYpCZNBU",
        "outputId": "a19e875f-6903-4ee4-fc3b-587c14566e99"
      },
      "outputs": [
        {
          "name": "stdout",
          "output_type": "stream",
          "text": [
            "ACC =  0.43142857142857144\n",
            "RECALL =  [0.54 0.32 0.46]\n"
          ]
        }
      ],
      "source": [
        "acc = 0\n",
        "recall = np.array([0., 0., 0.])\n",
        "\n",
        "for train_index, test_index in kf.split(x_K_cogn1, y_K_cogn1):\n",
        "  # Training phase\n",
        "  X_train = x_K_cogn1.iloc[train_index, :]\n",
        "  y_train = y_K_cogn1.iloc[train_index]\n",
        "\n",
        "  rus = RandomUnderSampler(random_state=42)\n",
        "  X_train_rus, y_train_rus= rus.fit_resample(X_train, y_train)\n",
        "\n",
        "  clf = make_pipeline(StandardScaler(), KNeighborsClassifier(n_neighbors = int(7)))\n",
        "  clf.fit(X_train_rus, y_train_rus)\n",
        "\n",
        "  # Test phase\n",
        "  X_test = x_K_cogn1.iloc[test_index, :]\n",
        "  y_test = y_K_cogn1.iloc[test_index]\n",
        "  y_pred = clf.predict(X_test)\n",
        "\n",
        "  # Results\n",
        "  cm = confusion_matrix(y_test, y_pred)\n",
        "\n",
        "  acc += (cm[0,0]+cm[1,1]+cm[2,2])/len(y_test)\n",
        "\n",
        "  recall[0] += cm[0,0]/(cm[0,0] + cm[0,1] + cm[0,2])\n",
        "  recall[1] += cm[1,1]/(cm[1,0] + cm[1,1] + cm[1,2])\n",
        "  recall[2] += cm[2,2]/(cm[2,0] + cm[2,1] + cm[2,2])\n",
        "\n",
        "acc = acc/25\n",
        "print('ACC = ', acc)\n",
        "recall = recall/25\n",
        "print('RECALL = ', recall)"
      ]
    },
    {
      "cell_type": "markdown",
      "id": "rJxKAVulZa9c",
      "metadata": {
        "id": "rJxKAVulZa9c"
      },
      "source": [
        "### MLP - Kun"
      ]
    },
    {
      "cell_type": "code",
      "execution_count": null,
      "id": "6e3hv0cgZXYX",
      "metadata": {
        "colab": {
          "base_uri": "https://localhost:8080/"
        },
        "id": "6e3hv0cgZXYX",
        "outputId": "0bc2af49-2f7c-470a-d3f4-20f3f7ee6403"
      },
      "outputs": [
        {
          "name": "stdout",
          "output_type": "stream",
          "text": [
            "ACC =  0.3971428571428571\n",
            "RECALL =  [0.34666667 0.46       0.38666667]\n"
          ]
        }
      ],
      "source": [
        "acc = 0\n",
        "recall = np.array([0., 0., 0.])\n",
        "\n",
        "for train_index, test_index in kf.split(x_K_cogn1, y_K_cogn1):\n",
        "  # Training phase\n",
        "  X_train = x_K_cogn1.iloc[train_index, :]\n",
        "  y_train = y_K_cogn1.iloc[train_index]\n",
        "\n",
        "  clf = make_pipeline(StandardScaler(), MLPClassifier(hidden_layer_sizes=5, max_iter=1000))\n",
        "\n",
        "  clf.fit(X_train, y_train)\n",
        "\n",
        "  # Test phase\n",
        "  X_test = x_K_cogn1.iloc[test_index, :]\n",
        "  y_test = y_K_cogn1.iloc[test_index]\n",
        "  y_pred = clf.predict(X_test)\n",
        "\n",
        "  # Results\n",
        "  cm = confusion_matrix(y_test, y_pred)\n",
        "\n",
        "  acc += (cm[0,0]+cm[1,1]+cm[2,2])/len(y_test)\n",
        "\n",
        "  recall[0] += cm[0,0]/(cm[0,0] + cm[0,1] + cm[0,2])\n",
        "  recall[1] += cm[1,1]/(cm[1,0] + cm[1,1] + cm[1,2])\n",
        "  recall[2] += cm[2,2]/(cm[2,0] + cm[2,1] + cm[2,2])\n",
        "\n",
        "acc = acc/25\n",
        "print('ACC = ', acc)\n",
        "recall = recall/25\n",
        "print('RECALL = ', recall)"
      ]
    },
    {
      "cell_type": "markdown",
      "id": "wiF7EjAUaw6h",
      "metadata": {
        "id": "wiF7EjAUaw6h"
      },
      "source": [
        "### Logistic Regression - Kun"
      ]
    },
    {
      "cell_type": "code",
      "execution_count": null,
      "id": "hy5-ptQYav0y",
      "metadata": {
        "colab": {
          "base_uri": "https://localhost:8080/"
        },
        "id": "hy5-ptQYav0y",
        "outputId": "a364948d-4d07-4446-c6ba-22bea9f1a240"
      },
      "outputs": [
        {
          "name": "stdout",
          "output_type": "stream",
          "text": [
            "ACC =  0.48190476190476195\n",
            "RECALL =  [0.38666667 0.6        0.44666667]\n"
          ]
        }
      ],
      "source": [
        "acc = 0\n",
        "recall = np.array([0., 0., 0.])\n",
        "\n",
        "for train_index, test_index in kf.split(x_K_cogn1, y_K_cogn1):\n",
        "  # Training phase\n",
        "  X_train = x_K_cogn1.iloc[train_index, :]\n",
        "  y_train = y_K_cogn1.iloc[train_index]\n",
        "\n",
        "  clf = make_pipeline(StandardScaler(), LogisticRegression())\n",
        "\n",
        "  clf.fit(X_train, y_train)\n",
        "\n",
        "  # Test phase\n",
        "  X_test = x_K_cogn1.iloc[test_index, :]\n",
        "  y_test = y_K_cogn1.iloc[test_index]\n",
        "  y_pred = clf.predict(X_test)\n",
        "\n",
        "  # Results\n",
        "  cm = confusion_matrix(y_test, y_pred)\n",
        "\n",
        "  acc += (cm[0,0]+cm[1,1]+cm[2,2])/len(y_test)\n",
        "\n",
        "  recall[0] += cm[0,0]/(cm[0,0] + cm[0,1] + cm[0,2])\n",
        "  recall[1] += cm[1,1]/(cm[1,0] + cm[1,1] + cm[1,2])\n",
        "  recall[2] += cm[2,2]/(cm[2,0] + cm[2,1] + cm[2,2])\n",
        "\n",
        "acc = acc/25\n",
        "print('ACC = ', acc)\n",
        "recall = recall/25\n",
        "print('RECALL = ', recall)"
      ]
    },
    {
      "cell_type": "markdown",
      "id": "xIgx5pCBa5S2",
      "metadata": {
        "id": "xIgx5pCBa5S2"
      },
      "source": [
        "### Random Forest - Kun"
      ]
    },
    {
      "cell_type": "code",
      "execution_count": null,
      "id": "KDPsHbfBa3Si",
      "metadata": {
        "colab": {
          "base_uri": "https://localhost:8080/"
        },
        "id": "KDPsHbfBa3Si",
        "outputId": "07e2dd83-56fc-4094-8a94-c02fcfa2572d"
      },
      "outputs": [
        {
          "name": "stdout",
          "output_type": "stream",
          "text": [
            "ACC =  0.4019047619047619\n",
            "RECALL =  [0.38       0.47333333 0.37333333]\n"
          ]
        }
      ],
      "source": [
        "acc = 0\n",
        "recall = np.array([0., 0., 0.])\n",
        "\n",
        "for train_index, test_index in kf.split(x_K_cogn1, y_K_cogn1):\n",
        "  # Training phase\n",
        "  X_train = x_K_cogn1.iloc[train_index, :]\n",
        "  y_train = y_K_cogn1.iloc[train_index]\n",
        "\n",
        "  clf = make_pipeline(StandardScaler(), RandomForestClassifier())\n",
        "\n",
        "  clf.fit(X_train, y_train)\n",
        "\n",
        "  # Test phase\n",
        "  X_test = x_K_cogn1.iloc[test_index, :]\n",
        "  y_test = y_K_cogn1.iloc[test_index]\n",
        "  y_pred = clf.predict(X_test)\n",
        "\n",
        "  # Results\n",
        "  cm = confusion_matrix(y_test, y_pred)\n",
        "\n",
        "  acc += (cm[0,0]+cm[1,1]+cm[2,2])/len(y_test)\n",
        "\n",
        "  recall[0] += cm[0,0]/(cm[0,0] + cm[0,1] + cm[0,2])\n",
        "  recall[1] += cm[1,1]/(cm[1,0] + cm[1,1] + cm[1,2])\n",
        "  recall[2] += cm[2,2]/(cm[2,0] + cm[2,1] + cm[2,2])\n",
        "\n",
        "acc = acc/25\n",
        "print('ACC = ', acc)\n",
        "recall = recall/25\n",
        "print('RECALL = ', recall)"
      ]
    },
    {
      "cell_type": "markdown",
      "id": "PZGdrfkvbOPE",
      "metadata": {
        "id": "PZGdrfkvbOPE"
      },
      "source": [
        "## Clasificación de no tarea cognitiva (cruz) vs tarea cognitiva"
      ]
    },
    {
      "cell_type": "code",
      "execution_count": null,
      "id": "-wiDdsXADNyN",
      "metadata": {
        "id": "-wiDdsXADNyN"
      },
      "outputs": [],
      "source": [
        "cogn_K = pd.read_csv('/content/drive/MyDrive/Colab Notebooks/Proyecto Anna/prueba_2_kun.txt', delimiter = '\\s+', header = None)\n",
        "cogn_D = pd.read_csv('/content/drive/MyDrive/Colab Notebooks/Proyecto Anna/prueba_2_diego.txt', delimiter = '\\s+', header = None)\n",
        "cogn_A = pd.read_csv('/content/drive/MyDrive/Colab Notebooks/Proyecto Anna/prueba_2_anna.txt', delimiter = '\\s+', header = None)\n",
        "\n",
        "# X Y de Cognitivas 2\n",
        "transformacion = lambda x: 1 if 1 <= x <= 4 else 2 if 5 <= x <= 8 else 3 if 9 <= x <= 12 else 4\n",
        "cogn_K[0] = cogn_K[0].map(transformacion)\n",
        "cogn_D[0] = cogn_K[0].map(transformacion)\n",
        "cogn_A[0] = cogn_K[0].map(transformacion)\n",
        "transformacion = lambda x: 1 if 1 <= x <= 3 else 4\n",
        "cogn_K[0] = cogn_K[0].map(transformacion)\n",
        "cogn_D[0] = cogn_K[0].map(transformacion)\n",
        "cogn_A[0] = cogn_K[0].map(transformacion)\n",
        "\n",
        "x_K_cogn2 = cogn_K.iloc[: , 1:]\n",
        "y_K_cogn2 = cogn_K.iloc[: , 0]\n",
        "# ------------------------\n",
        "x_D_cogn2 = cogn_D.iloc[: , 1:]\n",
        "y_D_cogn2 = cogn_D.iloc[: , 0]\n",
        "# ------------------------\n",
        "x_A_cogn2 = cogn_A.iloc[: , 1:]\n",
        "y_A_cogn2 = cogn_A.iloc[: , 0]"
      ]
    },
    {
      "cell_type": "markdown",
      "id": "Gd15lJKnbvOV",
      "metadata": {
        "id": "Gd15lJKnbvOV"
      },
      "source": [
        "### SVM - Kun"
      ]
    },
    {
      "cell_type": "code",
      "execution_count": null,
      "id": "Zws4mKcBbzp0",
      "metadata": {
        "colab": {
          "base_uri": "https://localhost:8080/"
        },
        "id": "Zws4mKcBbzp0",
        "outputId": "e03f4e2a-7274-4e29-a612-1ebd0e589407"
      },
      "outputs": [
        {
          "name": "stdout",
          "output_type": "stream",
          "text": [
            "ACC =  0.6327272727272726\n",
            "RECALL =  [0.87047619 0.26      ]\n"
          ]
        }
      ],
      "source": [
        "acc = 0\n",
        "recall = np.array([0., 0.])\n",
        "\n",
        "for train_index, test_index in kf.split(x_K_cogn2, y_K_cogn2):\n",
        "  # Training phase\n",
        "  X_train = x_K_cogn2.iloc[train_index, :]\n",
        "  y_train = y_K_cogn2.iloc[train_index]\n",
        "\n",
        "  clf = make_pipeline(StandardScaler(), svm.SVC())\n",
        "  clf.fit(X_train, y_train)\n",
        "\n",
        "  # Test phase\n",
        "  X_test = x_K_cogn2.iloc[test_index, :]\n",
        "  y_test = y_K_cogn2.iloc[test_index]\n",
        "  y_pred = clf.predict(X_test)\n",
        "\n",
        "  # Results\n",
        "  cm = confusion_matrix(y_test, y_pred)\n",
        "\n",
        "  acc += (cm[0,0]+cm[1,1])/len(y_test)\n",
        "\n",
        "  recall[0] += cm[0,0]/(cm[0,0] + cm[0,1])\n",
        "  recall[1] += cm[1,1]/(cm[1,0] + cm[1,1])\n",
        "\n",
        "acc = acc/25\n",
        "print('ACC = ', acc)\n",
        "recall = recall/25\n",
        "print('RECALL = ', recall)"
      ]
    },
    {
      "cell_type": "markdown",
      "id": "5sJzdGmTjIRk",
      "metadata": {
        "id": "5sJzdGmTjIRk"
      },
      "source": [
        "### SVM - Diego"
      ]
    },
    {
      "cell_type": "code",
      "execution_count": null,
      "id": "vYPSfAanjIG_",
      "metadata": {
        "colab": {
          "base_uri": "https://localhost:8080/"
        },
        "id": "vYPSfAanjIG_",
        "outputId": "ee27d344-5d10-4448-cecf-e6eec1b43c5a"
      },
      "outputs": [
        {
          "name": "stdout",
          "output_type": "stream",
          "text": [
            "ACC =  0.8069090909090909\n",
            "RECALL =  [0.93333333 0.608     ]\n"
          ]
        }
      ],
      "source": [
        "acc = 0\n",
        "recall = np.array([0., 0.])\n",
        "\n",
        "for train_index, test_index in kf.split(x_D_cogn2, y_D_cogn2):\n",
        "  # Training phase\n",
        "  X_train = x_D_cogn2.iloc[train_index, :]\n",
        "  y_train = y_D_cogn2.iloc[train_index]\n",
        "\n",
        "  clf = make_pipeline(StandardScaler(), svm.SVC())\n",
        "  clf.fit(X_train, y_train)\n",
        "\n",
        "  # Test phase\n",
        "  X_test = x_D_cogn2.iloc[test_index, :]\n",
        "  y_test = y_D_cogn2.iloc[test_index]\n",
        "  y_pred = clf.predict(X_test)\n",
        "\n",
        "  # Results\n",
        "  cm = confusion_matrix(y_test, y_pred)\n",
        "\n",
        "  acc += (cm[0,0]+cm[1,1])/len(y_test)\n",
        "\n",
        "  recall[0] += cm[0,0]/(cm[0,0] + cm[0,1])\n",
        "  recall[1] += cm[1,1]/(cm[1,0] + cm[1,1])\n",
        "\n",
        "acc = acc/25\n",
        "print('ACC = ', acc)\n",
        "recall = recall/25\n",
        "print('RECALL = ', recall)"
      ]
    },
    {
      "cell_type": "markdown",
      "id": "4jP5-CS5jH7A",
      "metadata": {
        "id": "4jP5-CS5jH7A"
      },
      "source": [
        "### SVM - Anna"
      ]
    },
    {
      "cell_type": "code",
      "execution_count": null,
      "id": "uRZHXPYTjGKF",
      "metadata": {
        "colab": {
          "base_uri": "https://localhost:8080/"
        },
        "id": "uRZHXPYTjGKF",
        "outputId": "75502b7d-c4e6-4df0-92f7-3fd7794eadfb"
      },
      "outputs": [
        {
          "name": "stdout",
          "output_type": "stream",
          "text": [
            "ACC =  0.7112727272727273\n",
            "RECALL =  [0.90571429 0.402     ]\n"
          ]
        }
      ],
      "source": [
        "acc = 0\n",
        "recall = np.array([0., 0.])\n",
        "\n",
        "for train_index, test_index in kf.split(x_A_cogn2, y_A_cogn2):\n",
        "  # Training phase\n",
        "  X_train = x_A_cogn2.iloc[train_index, :]\n",
        "  y_train = y_A_cogn2.iloc[train_index]\n",
        "\n",
        "  clf = make_pipeline(StandardScaler(), svm.SVC())\n",
        "  clf.fit(X_train, y_train)\n",
        "\n",
        "  # Test phase\n",
        "  X_test = x_A_cogn2.iloc[test_index, :]\n",
        "  y_test = y_A_cogn2.iloc[test_index]\n",
        "  y_pred = clf.predict(X_test)\n",
        "\n",
        "  # Results\n",
        "  cm = confusion_matrix(y_test, y_pred)\n",
        "\n",
        "  acc += (cm[0,0]+cm[1,1])/len(y_test)\n",
        "\n",
        "  recall[0] += cm[0,0]/(cm[0,0] + cm[0,1])\n",
        "  recall[1] += cm[1,1]/(cm[1,0] + cm[1,1])\n",
        "\n",
        "acc = acc/25\n",
        "print('ACC = ', acc)\n",
        "recall = recall/25\n",
        "print('RECALL = ', recall)"
      ]
    },
    {
      "cell_type": "markdown",
      "id": "MZR33VzVb5HO",
      "metadata": {
        "id": "MZR33VzVb5HO"
      },
      "source": [
        "### KNN - Kun"
      ]
    },
    {
      "cell_type": "code",
      "execution_count": null,
      "id": "PriNtpy6b4VE",
      "metadata": {
        "colab": {
          "base_uri": "https://localhost:8080/"
        },
        "id": "PriNtpy6b4VE",
        "outputId": "996e6de1-fb0a-4dbe-e6b9-dcea8ee276a5"
      },
      "outputs": [
        {
          "name": "stdout",
          "output_type": "stream",
          "text": [
            "ACC =  0.5345454545454545\n",
            "RECALL =  [0.45238095 0.668     ]\n"
          ]
        }
      ],
      "source": [
        "acc = 0\n",
        "recall = np.array([0., 0.])\n",
        "\n",
        "for train_index, test_index in kf.split(x_K_cogn2, y_K_cogn2):\n",
        "  # Training phase\n",
        "  X_train = x_K_cogn2.iloc[train_index, :]\n",
        "  y_train = y_K_cogn2.iloc[train_index]\n",
        "\n",
        "  rus = RandomUnderSampler(random_state=42)\n",
        "  X_train_rus, y_train_rus= rus.fit_resample(X_train, y_train)\n",
        "\n",
        "  clf = make_pipeline(StandardScaler(), KNeighborsClassifier(n_neighbors = int(7)))\n",
        "  clf.fit(X_train_rus, y_train_rus)\n",
        "\n",
        "  # Test phase\n",
        "  X_test = x_K_cogn2.iloc[test_index, :]\n",
        "  y_test = y_K_cogn2.iloc[test_index]\n",
        "  y_pred = clf.predict(X_test)\n",
        "\n",
        "  # Results\n",
        "  cm = confusion_matrix(y_test, y_pred)\n",
        "\n",
        "  acc += (cm[0,0]+cm[1,1])/len(y_test)\n",
        "\n",
        "  recall[0] += cm[0,0]/(cm[0,0] + cm[0,1])\n",
        "  recall[1] += cm[1,1]/(cm[1,0] + cm[1,1])\n",
        "\n",
        "acc = acc/25\n",
        "print('ACC = ', acc)\n",
        "recall = recall/25\n",
        "print('RECALL = ', recall)"
      ]
    },
    {
      "cell_type": "markdown",
      "id": "ZyTm3pCdltLG",
      "metadata": {
        "id": "ZyTm3pCdltLG"
      },
      "source": [
        "### KNN - Diego"
      ]
    },
    {
      "cell_type": "code",
      "execution_count": null,
      "id": "EKWlVCWGls-t",
      "metadata": {
        "colab": {
          "base_uri": "https://localhost:8080/"
        },
        "id": "EKWlVCWGls-t",
        "outputId": "470e8a75-5364-4bf8-f4d8-a658bc16d3e0"
      },
      "outputs": [
        {
          "name": "stdout",
          "output_type": "stream",
          "text": [
            "ACC =  0.7701818181818182\n",
            "RECALL =  [0.89904762 0.558     ]\n"
          ]
        }
      ],
      "source": [
        "acc = 0\n",
        "recall = np.array([0., 0.])\n",
        "\n",
        "for train_index, test_index in kf.split(x_D_cogn2, y_D_cogn2):\n",
        "  # Training phase\n",
        "  X_train = x_D_cogn2.iloc[train_index, :]\n",
        "  y_train = y_D_cogn2.iloc[train_index]\n",
        "\n",
        "  rus = RandomUnderSampler(random_state=42)\n",
        "  X_train_rus, y_train_rus= rus.fit_resample(X_train, y_train)\n",
        "\n",
        "  clf = make_pipeline(StandardScaler(), KNeighborsClassifier(n_neighbors = int(7)))\n",
        "  clf.fit(X_train_rus, y_train_rus)\n",
        "\n",
        "  # Test phase\n",
        "  X_test = x_D_cogn2.iloc[test_index, :]\n",
        "  y_test = y_D_cogn2.iloc[test_index]\n",
        "  y_pred = clf.predict(X_test)\n",
        "\n",
        "  # Results\n",
        "  cm = confusion_matrix(y_test, y_pred)\n",
        "\n",
        "  acc += (cm[0,0]+cm[1,1])/len(y_test)\n",
        "\n",
        "  recall[0] += cm[0,0]/(cm[0,0] + cm[0,1])\n",
        "  recall[1] += cm[1,1]/(cm[1,0] + cm[1,1])\n",
        "\n",
        "acc = acc/25\n",
        "print('ACC = ', acc)\n",
        "recall = recall/25\n",
        "print('RECALL = ', recall)"
      ]
    },
    {
      "cell_type": "markdown",
      "id": "3-HFV6balsyI",
      "metadata": {
        "id": "3-HFV6balsyI"
      },
      "source": [
        "### KNN - Ana"
      ]
    },
    {
      "cell_type": "code",
      "execution_count": null,
      "id": "XvsFF-DUlslM",
      "metadata": {
        "colab": {
          "base_uri": "https://localhost:8080/"
        },
        "id": "XvsFF-DUlslM",
        "outputId": "641c6eb4-317e-4cf9-c23e-f03302ae1650"
      },
      "outputs": [
        {
          "name": "stdout",
          "output_type": "stream",
          "text": [
            "ACC =  0.616\n",
            "RECALL =  [0.66571429 0.536     ]\n"
          ]
        }
      ],
      "source": [
        "acc = 0\n",
        "recall = np.array([0., 0.])\n",
        "\n",
        "for train_index, test_index in kf.split(x_A_cogn2, y_A_cogn2):\n",
        "  # Training phase\n",
        "  X_train = x_A_cogn2.iloc[train_index, :]\n",
        "  y_train = y_A_cogn2.iloc[train_index]\n",
        "\n",
        "  rus = RandomUnderSampler(random_state=42)\n",
        "  X_train_rus, y_train_rus= rus.fit_resample(X_train, y_train)\n",
        "\n",
        "  clf = make_pipeline(StandardScaler(), KNeighborsClassifier(n_neighbors = int(7)))\n",
        "  clf.fit(X_train_rus, y_train_rus)\n",
        "\n",
        "  # Test phase\n",
        "  X_test = x_A_cogn2.iloc[test_index, :]\n",
        "  y_test = y_A_cogn2.iloc[test_index]\n",
        "  y_pred = clf.predict(X_test)\n",
        "\n",
        "  # Results\n",
        "  cm = confusion_matrix(y_test, y_pred)\n",
        "\n",
        "  acc += (cm[0,0]+cm[1,1])/len(y_test)\n",
        "\n",
        "  recall[0] += cm[0,0]/(cm[0,0] + cm[0,1])\n",
        "  recall[1] += cm[1,1]/(cm[1,0] + cm[1,1])\n",
        "\n",
        "acc = acc/25\n",
        "print('ACC = ', acc)\n",
        "recall = recall/25\n",
        "print('RECALL = ', recall)"
      ]
    },
    {
      "cell_type": "markdown",
      "id": "0u1T6JshcBaT",
      "metadata": {
        "id": "0u1T6JshcBaT"
      },
      "source": [
        "### MLP - Kun"
      ]
    },
    {
      "cell_type": "code",
      "execution_count": null,
      "id": "LRM8KCUecA_d",
      "metadata": {
        "colab": {
          "base_uri": "https://localhost:8080/"
        },
        "id": "LRM8KCUecA_d",
        "outputId": "559f27f7-064e-42b9-a39f-1976f5b92de9"
      },
      "outputs": [
        {
          "name": "stdout",
          "output_type": "stream",
          "text": [
            "ACC =  0.578181818181818\n",
            "RECALL =  [0.62666667 0.508     ]\n"
          ]
        }
      ],
      "source": [
        "acc = 0\n",
        "recall = np.array([0., 0.])\n",
        "\n",
        "for train_index, test_index in kf.split(x_K_cogn2, y_K_cogn2):\n",
        "  # Training phase\n",
        "  X_train = x_K_cogn2.iloc[train_index, :]\n",
        "  y_train = y_K_cogn2.iloc[train_index]\n",
        "\n",
        "  clf = make_pipeline(StandardScaler(), MLPClassifier(hidden_layer_sizes=5, max_iter=1000))\n",
        "\n",
        "  clf.fit(X_train, y_train)\n",
        "\n",
        "  # Test phase\n",
        "  X_test = x_K_cogn2.iloc[test_index, :]\n",
        "  y_test = y_K_cogn2.iloc[test_index]\n",
        "  y_pred = clf.predict(X_test)\n",
        "\n",
        "  # Results\n",
        "  cm = confusion_matrix(y_test, y_pred)\n",
        "\n",
        "  acc += (cm[0,0]+cm[1,1])/len(y_test)\n",
        "\n",
        "  recall[0] += cm[0,0]/(cm[0,0] + cm[0,1])\n",
        "  recall[1] += cm[1,1]/(cm[1,0] + cm[1,1])\n",
        "\n",
        "acc = acc/25\n",
        "print('ACC = ', acc)\n",
        "recall = recall/25\n",
        "print('RECALL = ', recall)"
      ]
    },
    {
      "cell_type": "markdown",
      "id": "SzfhKt2bmYg6",
      "metadata": {
        "id": "SzfhKt2bmYg6"
      },
      "source": [
        "### MLP - Diego"
      ]
    },
    {
      "cell_type": "code",
      "execution_count": null,
      "id": "dGU70Qo_mYUN",
      "metadata": {
        "colab": {
          "base_uri": "https://localhost:8080/"
        },
        "id": "dGU70Qo_mYUN",
        "outputId": "bc2d6ac9-882e-438a-bac6-cba21d282c7d"
      },
      "outputs": [
        {
          "name": "stdout",
          "output_type": "stream",
          "text": [
            "ACC =  0.4992727272727273\n",
            "RECALL =  [0.44285714 0.578     ]\n"
          ]
        }
      ],
      "source": [
        "acc = 0\n",
        "recall = np.array([0., 0.])\n",
        "\n",
        "for train_index, test_index in kf.split(x_D_cogn2, y_D_cogn2):\n",
        "  # Training phase\n",
        "  X_train = x_D_cogn2.iloc[train_index, :]\n",
        "  y_train = y_D_cogn2.iloc[train_index]\n",
        "\n",
        "  clf = make_pipeline(StandardScaler(), MLPClassifier(hidden_layer_sizes=5, max_iter=1000))\n",
        "\n",
        "  clf.fit(X_train, y_train)\n",
        "\n",
        "  # Test phase\n",
        "  X_test = x_K_cogn2.iloc[test_index, :]\n",
        "  y_test = y_K_cogn2.iloc[test_index]\n",
        "  y_pred = clf.predict(X_test)\n",
        "\n",
        "  # Results\n",
        "  cm = confusion_matrix(y_test, y_pred)\n",
        "\n",
        "  acc += (cm[0,0]+cm[1,1])/len(y_test)\n",
        "\n",
        "  recall[0] += cm[0,0]/(cm[0,0] + cm[0,1])\n",
        "  recall[1] += cm[1,1]/(cm[1,0] + cm[1,1])\n",
        "\n",
        "acc = acc/25\n",
        "print('ACC = ', acc)\n",
        "recall = recall/25\n",
        "print('RECALL = ', recall)"
      ]
    },
    {
      "cell_type": "markdown",
      "id": "CdZc37x2mYKf",
      "metadata": {
        "id": "CdZc37x2mYKf"
      },
      "source": [
        "### MLP - Anna"
      ]
    },
    {
      "cell_type": "code",
      "execution_count": null,
      "id": "jPXoDJIWmYBI",
      "metadata": {
        "colab": {
          "base_uri": "https://localhost:8080/"
        },
        "id": "jPXoDJIWmYBI",
        "outputId": "24a47263-dc14-4877-84bf-0487dc7498d9"
      },
      "outputs": [
        {
          "name": "stdout",
          "output_type": "stream",
          "text": [
            "ACC =  0.6421818181818182\n",
            "RECALL =  [0.72285714 0.52      ]\n"
          ]
        }
      ],
      "source": [
        "acc = 0\n",
        "recall = np.array([0., 0.])\n",
        "\n",
        "for train_index, test_index in kf.split(x_A_cogn2, y_A_cogn2):\n",
        "  # Training phase\n",
        "  X_train = x_A_cogn2.iloc[train_index, :]\n",
        "  y_train = y_A_cogn2.iloc[train_index]\n",
        "\n",
        "  clf = make_pipeline(StandardScaler(), MLPClassifier(hidden_layer_sizes=5, max_iter=1000))\n",
        "\n",
        "  clf.fit(X_train, y_train)\n",
        "\n",
        "  # Test phase\n",
        "  X_test = x_A_cogn2.iloc[test_index, :]\n",
        "  y_test = y_A_cogn2.iloc[test_index]\n",
        "  y_pred = clf.predict(X_test)\n",
        "\n",
        "  # Results\n",
        "  cm = confusion_matrix(y_test, y_pred)\n",
        "\n",
        "  acc += (cm[0,0]+cm[1,1])/len(y_test)\n",
        "\n",
        "  recall[0] += cm[0,0]/(cm[0,0] + cm[0,1])\n",
        "  recall[1] += cm[1,1]/(cm[1,0] + cm[1,1])\n",
        "\n",
        "acc = acc/25\n",
        "print('ACC = ', acc)\n",
        "recall = recall/25\n",
        "print('RECALL = ', recall)"
      ]
    },
    {
      "cell_type": "markdown",
      "id": "1w3ZVTqwcL3X",
      "metadata": {
        "id": "1w3ZVTqwcL3X"
      },
      "source": [
        "### Logistic Regression - Kun"
      ]
    },
    {
      "cell_type": "code",
      "execution_count": null,
      "id": "RKBShro3cPk4",
      "metadata": {
        "colab": {
          "base_uri": "https://localhost:8080/"
        },
        "id": "RKBShro3cPk4",
        "outputId": "3b5813f7-0f5f-42fa-d430-5f213f8ad5dc"
      },
      "outputs": [
        {
          "name": "stdout",
          "output_type": "stream",
          "text": [
            "ACC =  0.6436363636363635\n",
            "RECALL =  [0.71619048 0.526     ]\n"
          ]
        }
      ],
      "source": [
        "acc = 0\n",
        "recall = np.array([0., 0.])\n",
        "\n",
        "for train_index, test_index in kf.split(x_K_cogn2, y_K_cogn2):\n",
        "  # Training phase\n",
        "  X_train = x_K_cogn2.iloc[train_index, :]\n",
        "  y_train = y_K_cogn2.iloc[train_index]\n",
        "\n",
        "  clf = make_pipeline(StandardScaler(), LogisticRegression())\n",
        "\n",
        "  clf.fit(X_train, y_train)\n",
        "\n",
        "  # Test phase\n",
        "  X_test = x_K_cogn2.iloc[test_index, :]\n",
        "  y_test = y_K_cogn2.iloc[test_index]\n",
        "  y_pred = clf.predict(X_test)\n",
        "\n",
        "  # Results\n",
        "  cm = confusion_matrix(y_test, y_pred)\n",
        "\n",
        "  acc += (cm[0,0]+cm[1,1])/len(y_test)\n",
        "\n",
        "  recall[0] += cm[0,0]/(cm[0,0] + cm[0,1])\n",
        "  recall[1] += cm[1,1]/(cm[1,0] + cm[1,1])\n",
        "\n",
        "acc = acc/25\n",
        "print('ACC = ', acc)\n",
        "recall = recall/25\n",
        "print('RECALL = ', recall)"
      ]
    },
    {
      "cell_type": "markdown",
      "id": "yfVCCl7QnUQy",
      "metadata": {
        "id": "yfVCCl7QnUQy"
      },
      "source": [
        "### Logistic Regression - Diego"
      ]
    },
    {
      "cell_type": "code",
      "execution_count": null,
      "id": "gV_croaYnT_X",
      "metadata": {
        "colab": {
          "base_uri": "https://localhost:8080/"
        },
        "id": "gV_croaYnT_X",
        "outputId": "dd107b75-13e1-435f-ca4f-baa857cd9ba6"
      },
      "outputs": [
        {
          "name": "stdout",
          "output_type": "stream",
          "text": [
            "ACC =  0.7883636363636362\n",
            "RECALL =  [0.86095238 0.668     ]\n"
          ]
        }
      ],
      "source": [
        "acc = 0\n",
        "recall = np.array([0., 0.])\n",
        "\n",
        "for train_index, test_index in kf.split(x_D_cogn2, y_D_cogn2):\n",
        "  # Training phase\n",
        "  X_train = x_D_cogn2.iloc[train_index, :]\n",
        "  y_train = y_D_cogn2.iloc[train_index]\n",
        "\n",
        "  clf = make_pipeline(StandardScaler(), LogisticRegression())\n",
        "\n",
        "  clf.fit(X_train, y_train)\n",
        "\n",
        "  # Test phase\n",
        "  X_test = x_D_cogn2.iloc[test_index, :]\n",
        "  y_test = y_D_cogn2.iloc[test_index]\n",
        "  y_pred = clf.predict(X_test)\n",
        "\n",
        "  # Results\n",
        "  cm = confusion_matrix(y_test, y_pred)\n",
        "\n",
        "  acc += (cm[0,0]+cm[1,1])/len(y_test)\n",
        "\n",
        "  recall[0] += cm[0,0]/(cm[0,0] + cm[0,1])\n",
        "  recall[1] += cm[1,1]/(cm[1,0] + cm[1,1])\n",
        "\n",
        "acc = acc/25\n",
        "print('ACC = ', acc)\n",
        "recall = recall/25\n",
        "print('RECALL = ', recall)"
      ]
    },
    {
      "cell_type": "markdown",
      "id": "oaVzMRfxnT0x",
      "metadata": {
        "id": "oaVzMRfxnT0x"
      },
      "source": [
        "### Logistic Regression - Anna"
      ]
    },
    {
      "cell_type": "code",
      "execution_count": null,
      "id": "KYhpLd_unTqQ",
      "metadata": {
        "colab": {
          "base_uri": "https://localhost:8080/"
        },
        "id": "KYhpLd_unTqQ",
        "outputId": "84bf801c-0ae8-4760-bc80-b015b0fc2d53"
      },
      "outputs": [
        {
          "name": "stdout",
          "output_type": "stream",
          "text": [
            "ACC =  0.7192727272727272\n",
            "RECALL =  [0.80380952 0.59      ]\n"
          ]
        }
      ],
      "source": [
        "acc = 0\n",
        "recall = np.array([0., 0.])\n",
        "\n",
        "for train_index, test_index in kf.split(x_A_cogn2, y_A_cogn2):\n",
        "  # Training phase\n",
        "  X_train = x_A_cogn2.iloc[train_index, :]\n",
        "  y_train = y_A_cogn2.iloc[train_index]\n",
        "\n",
        "  clf = make_pipeline(StandardScaler(), LogisticRegression())\n",
        "\n",
        "  clf.fit(X_train, y_train)\n",
        "\n",
        "  # Test phase\n",
        "  X_test = x_A_cogn2.iloc[test_index, :]\n",
        "  y_test = y_A_cogn2.iloc[test_index]\n",
        "  y_pred = clf.predict(X_test)\n",
        "\n",
        "  # Results\n",
        "  cm = confusion_matrix(y_test, y_pred)\n",
        "\n",
        "  acc += (cm[0,0]+cm[1,1])/len(y_test)\n",
        "\n",
        "  recall[0] += cm[0,0]/(cm[0,0] + cm[0,1])\n",
        "  recall[1] += cm[1,1]/(cm[1,0] + cm[1,1])\n",
        "\n",
        "acc = acc/25\n",
        "print('ACC = ', acc)\n",
        "recall = recall/25\n",
        "print('RECALL = ', recall)"
      ]
    },
    {
      "cell_type": "markdown",
      "id": "yhW4KJ8EcVGc",
      "metadata": {
        "id": "yhW4KJ8EcVGc"
      },
      "source": [
        "### Random Forest - Kun"
      ]
    },
    {
      "cell_type": "code",
      "execution_count": null,
      "id": "BE74WOsNcW_U",
      "metadata": {
        "colab": {
          "base_uri": "https://localhost:8080/"
        },
        "id": "BE74WOsNcW_U",
        "outputId": "1586564a-c1e0-4c28-864f-cab424cb9796"
      },
      "outputs": [
        {
          "name": "stdout",
          "output_type": "stream",
          "text": [
            "ACC =  0.6363636363636364\n",
            "RECALL =  [0.81047619 0.364     ]\n"
          ]
        }
      ],
      "source": [
        "acc = 0\n",
        "recall = np.array([0., 0.])\n",
        "\n",
        "for train_index, test_index in kf.split(x_K_cogn2, y_K_cogn2):\n",
        "  # Training phase\n",
        "  X_train = x_K_cogn2.iloc[train_index, :]\n",
        "  y_train = y_K_cogn2.iloc[train_index]\n",
        "\n",
        "  clf = make_pipeline(StandardScaler(), RandomForestClassifier())\n",
        "\n",
        "  clf.fit(X_train, y_train)\n",
        "\n",
        "  # Test phase\n",
        "  X_test = x_K_cogn2.iloc[test_index, :]\n",
        "  y_test = y_K_cogn2.iloc[test_index]\n",
        "  y_pred = clf.predict(X_test)\n",
        "\n",
        "  # Results\n",
        "  cm = confusion_matrix(y_test, y_pred)\n",
        "\n",
        "  acc += (cm[0,0]+cm[1,1])/len(y_test)\n",
        "\n",
        "  recall[0] += cm[0,0]/(cm[0,0] + cm[0,1])\n",
        "  recall[1] += cm[1,1]/(cm[1,0] + cm[1,1])\n",
        "\n",
        "acc = acc/25\n",
        "print('ACC = ', acc)\n",
        "recall = recall/25\n",
        "print('RECALL = ', recall)"
      ]
    },
    {
      "cell_type": "markdown",
      "id": "2GPKdT8doCEb",
      "metadata": {
        "id": "2GPKdT8doCEb"
      },
      "source": [
        "### Random Forest - Diego"
      ]
    },
    {
      "cell_type": "code",
      "execution_count": null,
      "id": "4t8NNu_YoB5R",
      "metadata": {
        "colab": {
          "base_uri": "https://localhost:8080/"
        },
        "id": "4t8NNu_YoB5R",
        "outputId": "c19bea54-8051-4adf-d65f-8ba2c246a724"
      },
      "outputs": [
        {
          "name": "stdout",
          "output_type": "stream",
          "text": [
            "ACC =  0.8138181818181817\n",
            "RECALL =  [0.91142857 0.66      ]\n"
          ]
        }
      ],
      "source": [
        "acc = 0\n",
        "recall = np.array([0., 0.])\n",
        "\n",
        "for train_index, test_index in kf.split(x_D_cogn2, y_D_cogn2):\n",
        "  # Training phase\n",
        "  X_train = x_D_cogn2.iloc[train_index, :]\n",
        "  y_train = y_D_cogn2.iloc[train_index]\n",
        "\n",
        "  clf = make_pipeline(StandardScaler(), RandomForestClassifier())\n",
        "\n",
        "  clf.fit(X_train, y_train)\n",
        "\n",
        "  # Test phase\n",
        "  X_test = x_D_cogn2.iloc[test_index, :]\n",
        "  y_test = y_D_cogn2.iloc[test_index]\n",
        "  y_pred = clf.predict(X_test)\n",
        "\n",
        "  # Results\n",
        "  cm = confusion_matrix(y_test, y_pred)\n",
        "\n",
        "  acc += (cm[0,0]+cm[1,1])/len(y_test)\n",
        "\n",
        "  recall[0] += cm[0,0]/(cm[0,0] + cm[0,1])\n",
        "  recall[1] += cm[1,1]/(cm[1,0] + cm[1,1])\n",
        "\n",
        "acc = acc/25\n",
        "print('ACC = ', acc)\n",
        "recall = recall/25\n",
        "print('RECALL = ', recall)"
      ]
    },
    {
      "cell_type": "markdown",
      "id": "xCnlBAjIoBuz",
      "metadata": {
        "id": "xCnlBAjIoBuz"
      },
      "source": [
        "### Random Forest - Anna"
      ]
    },
    {
      "cell_type": "code",
      "execution_count": null,
      "id": "jeItEVeqoBiv",
      "metadata": {
        "colab": {
          "base_uri": "https://localhost:8080/"
        },
        "id": "jeItEVeqoBiv",
        "outputId": "e139b007-c5fd-4f50-df06-0adf24a895ce"
      },
      "outputs": [
        {
          "name": "stdout",
          "output_type": "stream",
          "text": [
            "ACC =  0.6534545454545454\n",
            "RECALL =  [0.83333333 0.374     ]\n"
          ]
        }
      ],
      "source": [
        "acc = 0\n",
        "recall = np.array([0., 0.])\n",
        "\n",
        "for train_index, test_index in kf.split(x_A_cogn2, y_A_cogn2):\n",
        "  # Training phase\n",
        "  X_train = x_A_cogn2.iloc[train_index, :]\n",
        "  y_train = y_A_cogn2.iloc[train_index]\n",
        "\n",
        "  clf = make_pipeline(StandardScaler(), RandomForestClassifier())\n",
        "\n",
        "  clf.fit(X_train, y_train)\n",
        "\n",
        "  # Test phase\n",
        "  X_test = x_A_cogn2.iloc[test_index, :]\n",
        "  y_test = y_A_cogn2.iloc[test_index]\n",
        "  y_pred = clf.predict(X_test)\n",
        "\n",
        "  # Results\n",
        "  cm = confusion_matrix(y_test, y_pred)\n",
        "\n",
        "  acc += (cm[0,0]+cm[1,1])/len(y_test)\n",
        "\n",
        "  recall[0] += cm[0,0]/(cm[0,0] + cm[0,1])\n",
        "  recall[1] += cm[1,1]/(cm[1,0] + cm[1,1])\n",
        "\n",
        "acc = acc/25\n",
        "print('ACC = ', acc)\n",
        "recall = recall/25\n",
        "print('RECALL = ', recall)"
      ]
    },
    {
      "cell_type": "markdown",
      "id": "JbIkefwjcxjv",
      "metadata": {
        "id": "JbIkefwjcxjv"
      },
      "source": [
        "# Inciso 3:\n",
        "\n",
        "3. Indique qué modelos de clasificación de los que evaluó anteriormente tienen hiperparámetros y cuáles son éstos en cada caso. Seleccione uno de estos clasificadores, y determine sus hiperparámetros óptimos"
      ]
    },
    {
      "cell_type": "markdown",
      "id": "VC5Yow2jdLc3",
      "metadata": {
        "id": "VC5Yow2jdLc3"
      },
      "source": [
        "## Hiperparámetros de los clasificadores\n",
        "\n",
        "### SVM\n",
        "- **C**: Parámetro de regularización. Debe ser estrictamente positiva.\n",
        "- **kernel**: Especifica el tipo de kernel que se utilizará en el algoritmo. Si no se da ninguno, se utilizará 'rbf'. Si se da un llamable, se utiliza para calcular previamente la matriz del kernel a partir de matrices de datos. Esa matriz debe ser una matriz de forma (n_samples, n_samples).\n",
        "\n",
        "### KNN\n",
        "- **n_neighbors**: Número de vecinos que se usarán de forma predeterminada para las consultas kneighbors.\n",
        "\n",
        "### MLP\n",
        "- **hidden_layer_sizes**: El elemento i-ésimo representa el número de neuronas en la i-ésima capa oculta.\n",
        "- **activation**: Función de activación para la capa oculta.\n",
        "\n",
        "### Logistic Regression\n",
        "- **penalty**: Especifique la norma de la pena:\n",
        "\n",
        "  - **none**: no se añade ninguna penalización;\n",
        "\n",
        "  - **l2**: agregue un término de penalización L2 y es la opción predeterminada;\n",
        "\n",
        "  - **l1**: añadir una penalización L1;\n",
        "\n",
        "  - **elasticnet**: se añaden los términos de penalización L1 y L2.\n",
        "\n",
        "### Random Forest\n",
        "- **n_estimators**: Número de árboles en el 'forest'."
      ]
    },
    {
      "cell_type": "markdown",
      "id": "bD0pjtS0iR_m",
      "metadata": {
        "id": "bD0pjtS0iR_m"
      },
      "source": [
        "### P300 vs no P300"
      ]
    },
    {
      "cell_type": "code",
      "execution_count": null,
      "id": "9NJecbYHhLvM",
      "metadata": {
        "id": "9NJecbYHhLvM"
      },
      "outputs": [],
      "source": [
        "x = p300.iloc[: , 1:]\n",
        "y = p300.iloc[: , 0]\n",
        "\n",
        "models = {'MLP': MLPClassifier(hidden_layer_sizes=(16, 8), max_iter=1000)}\n",
        "\n",
        "hyperparameters = {'MLP':{'hidden_layer_sizes': [(16,), (16, 8), (32, 16)],\n",
        "                          'activation': ['relu', 'logistic']}}\n",
        "\n",
        "grid_search = GridSearchCV(models['MLP'], hyperparameters['MLP'], cv=3)\n",
        "grid_search.fit(x, y)\n",
        "\n",
        "best_params = grid_search.best_params_\n",
        "\n",
        "print(f\"Hiperparámetros óptimos para {'MLP'}:\")\n",
        "print(best_params)"
      ]
    },
    {
      "cell_type": "markdown",
      "id": "ht3thE_MhuRf",
      "metadata": {
        "id": "ht3thE_MhuRf"
      },
      "source": [
        "### Clasificación de tarea de cálculo (9-12) vs tarea de lectura (5-8) vs tarea de nombres de cosas (1-4)"
      ]
    },
    {
      "cell_type": "code",
      "execution_count": null,
      "id": "8X8zkYfmiiFN",
      "metadata": {
        "id": "8X8zkYfmiiFN"
      },
      "outputs": [],
      "source": [
        "x = cogn_1.iloc[: , 1:]\n",
        "y = cogn_1.iloc[: , 0]\n",
        "\n",
        "models = {'MLP': MLPClassifier(hidden_layer_sizes=(16, 8), max_iter=1000)}\n",
        "\n",
        "hyperparameters = {'MLP':{'hidden_layer_sizes': [(16,), (16, 8), (32, 16)],\n",
        "                          'activation': ['relu', 'logistic']}}\n",
        "\n",
        "grid_search = GridSearchCV(models['MLP'], hyperparameters['MLP'], cv=3)\n",
        "grid_search.fit(x, y)\n",
        "\n",
        "best_params = grid_search.best_params_\n",
        "\n",
        "print(f\"Hiperparámetros óptimos para {'MLP'}:\")\n",
        "print(best_params)"
      ]
    },
    {
      "cell_type": "markdown",
      "id": "bl5GcwlTizez",
      "metadata": {
        "id": "bl5GcwlTizez"
      },
      "source": [
        "### Clasificación de no tarea cognitiva (cruz) vs tarea cognitiva"
      ]
    },
    {
      "cell_type": "code",
      "execution_count": null,
      "id": "3xlxdMVbi1j-",
      "metadata": {
        "id": "3xlxdMVbi1j-"
      },
      "outputs": [],
      "source": [
        "x = cogn_2.iloc[: , 1:]\n",
        "y = cogn_2.iloc[: , 0]\n",
        "\n",
        "models = {'MLP': MLPClassifier(hidden_layer_sizes=(16, 8), max_iter=1000)}\n",
        "\n",
        "hyperparameters = {'MLP':{'hidden_layer_sizes': [(16,), (16, 8), (32, 16)],\n",
        "                          'activation': ['relu', 'logistic']}}\n",
        "\n",
        "grid_search = GridSearchCV(models['MLP'], hyperparameters['MLP'], cv=3)\n",
        "grid_search.fit(x, y)\n",
        "\n",
        "best_params = grid_search.best_params_\n",
        "\n",
        "print(f\"Hiperparámetros óptimos para {'MLP'}:\")\n",
        "print(best_params)"
      ]
    },
    {
      "cell_type": "markdown",
      "id": "6VKiJKkLjQvM",
      "metadata": {
        "id": "6VKiJKkLjQvM"
      },
      "source": [
        "# Inciso 4:\n",
        "\n",
        "4. Para uno de los modelos de clasificación, aplique un método de selección de características. Indique cuantas características son suficientes para obtener buenos resultados."
      ]
    },
    {
      "cell_type": "markdown",
      "id": "XkeMOpiZkEb9",
      "metadata": {
        "id": "XkeMOpiZkEb9"
      },
      "source": [
        "## P300 vs no P300"
      ]
    },
    {
      "cell_type": "code",
      "execution_count": null,
      "id": "mbbhCagSjQJ5",
      "metadata": {
        "colab": {
          "base_uri": "https://localhost:8080/",
          "height": 472
        },
        "id": "mbbhCagSjQJ5",
        "outputId": "70a470ce-0bb1-49e5-801e-6c06535b1c41"
      },
      "outputs": [
        {
          "data": {
            "image/png": "[encoded data removed]",
            "text/plain": [
              "<Figure size 640x480 with 1 Axes>"
            ]
          },
          "metadata": {},
          "output_type": "display_data"
        }
      ],
      "source": [
        "# Use the filter approach for feature selection\n",
        "ks = np.arange(1, 41, 1)\n",
        "accs = []\n",
        "clf = SVC(class_weight='balanced')\n",
        "kf = StratifiedKFold(n_splits=5, shuffle = True)\n",
        "\n",
        "for k in ks:\n",
        "    cv_y_test = []\n",
        "    cv_y_pred = []\n",
        "\n",
        "    for train_index, test_index in kf.split(x_A_p300, y_A_p300):\n",
        "\n",
        "       # Training phase\n",
        "        x_train = x_A_p300.iloc[train_index, :]\n",
        "        y_train = y_A_p300.iloc[train_index]\n",
        "\n",
        "        ffs = SelectKBest(mutual_info_classif, k=k)\n",
        "        ffs.fit(x_train, y_train)\n",
        "        x_train = ffs.transform(x_train)\n",
        "\n",
        "        clf.fit(x_train, y_train)\n",
        "\n",
        "        # Test phase\n",
        "        x_test = ffs.transform(x_A_p300.iloc[test_index, :])\n",
        "        y_test = y_A_p300[test_index]\n",
        "        y_pred = clf.predict(x_test)\n",
        "\n",
        "        cv_y_test.append(y_test)\n",
        "        cv_y_pred.append(y_pred)\n",
        "\n",
        "    acc = accuracy_score(np.concatenate(cv_y_test), np.concatenate(cv_y_pred))\n",
        "    accs.append(acc)\n",
        "\n",
        "plt.plot(ks, accs)\n",
        "plt.xlabel('k')\n",
        "plt.ylabel('Accuracy')\n",
        "plt.title('Univariate filter for feature selection')\n",
        "plt.show()"
      ]
    },
    {
      "cell_type": "markdown",
      "id": "Wx9W8siRkUtA",
      "metadata": {
        "id": "Wx9W8siRkUtA"
      },
      "source": [
        "## Clasificación de tarea de cálculo (9-12) vs tarea de lectura (5-8) vs tarea de nombres de cosas (1-4)"
      ]
    },
    {
      "cell_type": "code",
      "execution_count": null,
      "id": "WSaBYlLekVl5",
      "metadata": {
        "colab": {
          "base_uri": "https://localhost:8080/",
          "height": 472
        },
        "id": "WSaBYlLekVl5",
        "outputId": "7952a52a-6154-41cd-ae70-e6e411a81a1e"
      },
      "outputs": [
        {
          "data": {
            "image/png": "[encoded data removed]",
            "text/plain": [
              "<Figure size 640x480 with 1 Axes>"
            ]
          },
          "metadata": {},
          "output_type": "display_data"
        }
      ],
      "source": [
        "# Use the filter approach for feature selection\n",
        "ks = np.arange(1, 41, 1)\n",
        "accs = []\n",
        "clf = SVC(class_weight='balanced')\n",
        "kf = StratifiedKFold(n_splits=5, shuffle = True)\n",
        "\n",
        "for k in ks:\n",
        "    cv_y_test = []\n",
        "    cv_y_pred = []\n",
        "\n",
        "    for train_index, test_index in kf.split(x_K_cogn1, y_K_cogn1):\n",
        "\n",
        "       # Training phase\n",
        "        x_train = x_K_cogn1.iloc[train_index, :]\n",
        "        y_train = y_K_cogn1.iloc[train_index]\n",
        "\n",
        "        ffs = SelectKBest(mutual_info_classif, k=k)\n",
        "        ffs.fit(x_train, y_train)\n",
        "        x_train = ffs.transform(x_train)\n",
        "\n",
        "        clf.fit(x_train, y_train)\n",
        "\n",
        "        # Test phase\n",
        "        x_test = ffs.transform(x_K_cogn1.iloc[test_index, :])\n",
        "        y_test = y_K_cogn1.iloc[test_index]\n",
        "        y_pred = clf.predict(x_test)\n",
        "\n",
        "        cv_y_test.append(y_test)\n",
        "        cv_y_pred.append(y_pred)\n",
        "\n",
        "    acc = accuracy_score(np.concatenate(cv_y_test), np.concatenate(cv_y_pred))\n",
        "    accs.append(acc)\n",
        "\n",
        "plt.plot(ks, accs)\n",
        "plt.xlabel('k')\n",
        "plt.ylabel('Accuracy')\n",
        "plt.title('Univariate filter for feature selection')\n",
        "plt.show()"
      ]
    },
    {
      "cell_type": "markdown",
      "id": "LXr_Hlx5kUit",
      "metadata": {
        "id": "LXr_Hlx5kUit"
      },
      "source": [
        "## Clasificación de no tarea cognitiva (cruz) vs tarea cognitiva"
      ]
    },
    {
      "cell_type": "code",
      "execution_count": null,
      "id": "hjrdOELekT8S",
      "metadata": {
        "colab": {
          "base_uri": "https://localhost:8080/",
          "height": 472
        },
        "id": "hjrdOELekT8S",
        "outputId": "c80fced8-8867-444d-c89d-dae5662118dc"
      },
      "outputs": [
        {
          "data": {
            "image/png": "[encoded data removed]",
            "text/plain": [
              "<Figure size 640x480 with 1 Axes>"
            ]
          },
          "metadata": {},
          "output_type": "display_data"
        }
      ],
      "source": [
        "# Use the filter approach for feature selection\n",
        "ks = np.arange(1, 41, 1)\n",
        "accs = []\n",
        "clf = SVC(class_weight='balanced')\n",
        "kf = StratifiedKFold(n_splits=5, shuffle = True)\n",
        "\n",
        "for k in ks:\n",
        "    cv_y_test = []\n",
        "    cv_y_pred = []\n",
        "\n",
        "    for train_index, test_index in kf.split(x_D_cogn2, y_D_cogn2):\n",
        "\n",
        "       # Training phase\n",
        "        x_train = x_D_cogn2.iloc[train_index, :]\n",
        "        y_train = y_D_cogn2.iloc[train_index]\n",
        "\n",
        "        ffs = SelectKBest(mutual_info_classif, k=k)\n",
        "        ffs.fit(x_train, y_train)\n",
        "        x_train = ffs.transform(x_train)\n",
        "\n",
        "        clf.fit(x_train, y_train)\n",
        "\n",
        "        # Test phase\n",
        "        x_test = ffs.transform(x_D_cogn2.iloc[test_index, :])\n",
        "        y_test = y_D_cogn2.iloc[test_index]\n",
        "        y_pred = clf.predict(x_test)\n",
        "\n",
        "        cv_y_test.append(y_test)\n",
        "        cv_y_pred.append(y_pred)\n",
        "\n",
        "    acc = accuracy_score(np.concatenate(cv_y_test), np.concatenate(cv_y_pred))\n",
        "    accs.append(acc)\n",
        "\n",
        "plt.plot(ks, accs)\n",
        "plt.xlabel('k')\n",
        "plt.ylabel('Accuracy')\n",
        "plt.title('Univariate filter for feature selection')\n",
        "plt.show()"
      ]
    },
    {
      "cell_type": "markdown",
      "id": "qo3-pwxXqNvi",
      "metadata": {
        "id": "qo3-pwxXqNvi"
      },
      "source": [
        "# Aprendizaje por transferencia"
      ]
    },
    {
      "cell_type": "markdown",
      "id": "VyCbMPJsqi8W",
      "metadata": {
        "id": "VyCbMPJsqi8W"
      },
      "source": [
        "## SVC"
      ]
    },
    {
      "cell_type": "markdown",
      "id": "zK44V-uaqpN9",
      "metadata": {
        "id": "zK44V-uaqpN9"
      },
      "source": [
        "### P300 vs no P300"
      ]
    },
    {
      "cell_type": "code",
      "execution_count": null,
      "id": "60nv46RdqNdx",
      "metadata": {
        "colab": {
          "base_uri": "https://localhost:8080/"
        },
        "id": "60nv46RdqNdx",
        "outputId": "0bce6b3e-dd06-4938-d772-44b63d9d88a5"
      },
      "outputs": [
        {
          "name": "stdout",
          "output_type": "stream",
          "text": [
            "              precision    recall  f1-score   support\n",
            "\n",
            "           1       0.25      0.23      0.24       279\n",
            "           2       0.81      0.82      0.82      1114\n",
            "\n",
            "    accuracy                           0.70      1393\n",
            "   macro avg       0.53      0.53      0.53      1393\n",
            "weighted avg       0.70      0.70      0.70      1393\n",
            "\n"
          ]
        }
      ],
      "source": [
        "# Datos de entrenamiento: Anna\n",
        "X_train = x_A_p300\n",
        "y_train = y_A_p300\n",
        "\n",
        "# Datos de prueba: Kun\n",
        "X_test = x_K_p300\n",
        "y_test = y_K_p300\n",
        "\n",
        "model = SVC(class_weight='balanced')\n",
        "model.fit(X_train, y_train)\n",
        "\n",
        "y_pred = model.predict(X_test)\n",
        "\n",
        "print(classification_report(y_test, y_pred))"
      ]
    },
    {
      "cell_type": "markdown",
      "id": "ASHfblTouAm2",
      "metadata": {
        "id": "ASHfblTouAm2"
      },
      "source": [
        "## Logistic Regression"
      ]
    },
    {
      "cell_type": "markdown",
      "id": "xNLUQ5I7uLEg",
      "metadata": {
        "id": "xNLUQ5I7uLEg"
      },
      "source": [
        "### P300 vs no P300"
      ]
    },
    {
      "cell_type": "code",
      "execution_count": null,
      "id": "ySssdz4qt_3t",
      "metadata": {
        "colab": {
          "base_uri": "https://localhost:8080/"
        },
        "id": "ySssdz4qt_3t",
        "outputId": "5b801e8c-8b94-4d15-c6ef-27761b677754"
      },
      "outputs": [
        {
          "name": "stdout",
          "output_type": "stream",
          "text": [
            "              precision    recall  f1-score   support\n",
            "\n",
            "           1       0.23      0.39      0.29       279\n",
            "           2       0.82      0.68      0.74      1114\n",
            "\n",
            "    accuracy                           0.62      1393\n",
            "   macro avg       0.52      0.53      0.52      1393\n",
            "weighted avg       0.70      0.62      0.65      1393\n",
            "\n"
          ]
        }
      ],
      "source": [
        "# Datos de entrenamiento: Anna\n",
        "X_train = x_A_p300\n",
        "y_train = y_A_p300\n",
        "\n",
        "# Datos de prueba: Kun\n",
        "X_test = x_K_p300\n",
        "y_test = y_K_p300\n",
        "\n",
        "model = LogisticRegression(class_weight='balanced')\n",
        "model.fit(X_train, y_train)\n",
        "\n",
        "y_pred = model.predict(X_test)\n",
        "\n",
        "print(classification_report(y_test, y_pred))"
      ]
    }
  ],
  "metadata": {
    "colab": {
      "provenance": []
    },
    "kernelspec": {
      "display_name": "Python 3 (ipykernel)",
      "language": "python",
      "name": "python3"
    },
    "language_info": {
      "codemirror_mode": {
        "name": "ipython",
        "version": 3
      },
      "file_extension": ".py",
      "mimetype": "text/x-python",
      "name": "python",
      "nbconvert_exporter": "python",
      "pygments_lexer": "ipython3",
      "version": "3.9.7"
    }
  },
  "nbformat": 4,
  "nbformat_minor": 5
}